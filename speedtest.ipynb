{
 "metadata": {
  "language_info": {
   "codemirror_mode": {
    "name": "ipython",
    "version": 3
   },
   "file_extension": ".py",
   "mimetype": "text/x-python",
   "name": "python",
   "nbconvert_exporter": "python",
   "pygments_lexer": "ipython3",
   "version": "3.7.10"
  },
  "orig_nbformat": 4,
  "kernelspec": {
   "name": "python3",
   "display_name": "Python 3.7.10 64-bit ('dealersocket': venv)"
  },
  "interpreter": {
   "hash": "8652e804aa38c6f9ccf07da885f2850d1ccbaa42ceeef1a8e52d6675ae9c7381"
  }
 },
 "nbformat": 4,
 "nbformat_minor": 2,
 "cells": [
  {
   "source": [
    "# dependencies"
   ],
   "cell_type": "markdown",
   "metadata": {}
  },
  {
   "cell_type": "code",
   "execution_count": 2,
   "metadata": {},
   "outputs": [
    {
     "output_type": "stream",
     "name": "stdout",
     "text": [
      "webdriver_manager import error can suck my cock.\n",
      "imported modules successfully.\n"
     ]
    }
   ],
   "source": [
    "# http://speedtest.dealersocket.com/\n",
    "from selenium.webdriver import Chrome\n",
    "from selenium.webdriver.chrome.options import Options\n",
    "import selenium.webdriver.support.ui as ui\n",
    "from selenium.webdriver.common.keys import Keys\n",
    "import selenium.webdriver as webdriver\n",
    "try:\n",
    "    from webdriver_manager.chrome import ChromeDriverManager\n",
    "except:\n",
    "    print('webdriver_manager import error can suck my cock.')\n",
    "from bs4 import BeautifulSoup\n",
    "from urllib.parse import urlparse\n",
    "import datetime as dt\n",
    "import pandas as pd\n",
    "import numpy as np\n",
    "from pandas.io.json import json_normalize\n",
    "import requests \n",
    "import pprint\n",
    "import time\n",
    "import json\n",
    "import math\n",
    "import uuid\n",
    "import sys\n",
    "import ast\n",
    "import re\n",
    "import os\n",
    "\n",
    "base = os.getcwd()\n",
    "pp = pprint.PrettyPrinter(indent = 1)\n",
    "print(\"imported modules successfully.\")\n"
   ]
  },
  {
   "source": [
    "## logon function"
   ],
   "cell_type": "markdown",
   "metadata": {}
  },
  {
   "cell_type": "code",
   "execution_count": 3,
   "metadata": {},
   "outputs": [],
   "source": [
    "def logon():\n",
    "    \"\"\"\n",
    "    function to logon to webpage\n",
    "    arguments: None\n",
    "    returns: browser\n",
    "    \"\"\"\n",
    "\n",
    "    opts = Options()\n",
    "    #opts.add_argument('--headless')\n",
    "    opts.add_argument('--no-sandbox')\n",
    "    opts.add_argument('--ignore-certificate-errors')\n",
    "    opts.add_argument('--start-maximized')\n",
    "    opts.add_argument('--disable-dev-shm-usage')\n",
    "    #opts.binary_location = '/usr/bin/google-chrome-stable'\n",
    "    download_path = os.getcwd()\n",
    "    prefs = {\n",
    "                'download.default_directory': download_path,\n",
    "                'download.prompt_for_download': False,\n",
    "                'download.directory_upgrade': True,\n",
    "                'safebrowsing.enabled': False,\n",
    "                'safebrowsing.disable_download_protection': True\n",
    "            }\n",
    "    #prefs ={\"profile.default_content_settings.popups\": 0, \"download.default_directory\": \"/home/jupyter-engiela/la-tools-test/IDR_Drop/Downloads/\", \"directory_upgrade\": True}\n",
    "    opts.add_experimental_option(\"prefs\", prefs)\n",
    "    #assert opts.headless\n",
    "\n",
    "    #setup headless browser, get url\n",
    "    try:\n",
    "        browser = Chrome(executable_path = 'chromedriver', options = opts)\n",
    "\n",
    "    except:\n",
    "        raise Exception(\"couldn't start chromedriver.\")\n",
    "    \n",
    "    def enable_download_headless(browser,download_dir):\n",
    "        browser.command_executor._commands[\"send_command\"] = (\"POST\", '/session/$sessionId/chromium/send_command')\n",
    "        params = {'cmd':'Page.setDownloadBehavior', 'params': {'behavior': 'allow', 'downloadPath': download_dir}}\n",
    "        browser.execute(\"send_command\", params)\n",
    "    \n",
    "    try:\n",
    "        enable_download_headless(browser, download_path)\n",
    "\n",
    "    except:\n",
    "        raise Exception(\"for browser, {}\".format(download_path))\n",
    "\n",
    "    url = \"https://speedtest.dealersocket.com\"\n",
    "    #url = \"https:\\\\ngrid.epo.schneider-electric.com\\\\ngrid\\\\cgi\\\\eponline.exe\"\n",
    "\n",
    "    browser = browser.get(url)\n",
    "    # print(str(type(result)))\n",
    "\n",
    "    return(browser)"
   ]
  },
  {
   "cell_type": "code",
   "execution_count": null,
   "metadata": {},
   "outputs": [],
   "source": []
  }
 ]
}