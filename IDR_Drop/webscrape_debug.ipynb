{
 "cells": [
  {
   "cell_type": "markdown",
   "metadata": {},
   "source": [
    "# webscrape debug"
   ]
  },
  {
   "cell_type": "code",
   "execution_count": 1,
   "metadata": {},
   "outputs": [
    {
     "name": "stdout",
     "output_type": "stream",
     "text": [
      "not on windows os: win32com.client not imported.\n",
      "imported modules successfully.\n"
     ]
    }
   ],
   "source": [
    "try:\n",
    "    import win32com.client\n",
    "except:\n",
    "    print(\"not on windows os: win32com.client not imported.\")\n",
    "    \n",
    "import pandas as pd\n",
    "import numpy as np\n",
    "import datetime as dt\n",
    "import pprint\n",
    "import json\n",
    "import time\n",
    "import math\n",
    "import sys\n",
    "import re\n",
    "import os\n",
    "\n",
    "base = os.getcwd()\n",
    "pp = pprint.PrettyPrinter(indent = 1)\n",
    "print(\"imported modules successfully.\")"
   ]
  },
  {
   "cell_type": "code",
   "execution_count": 2,
   "metadata": {},
   "outputs": [
    {
     "name": "stdout",
     "output_type": "stream",
     "text": [
      "job failed.\n"
     ]
    }
   ],
   "source": [
    "#os.chdir(os.path.join(basepath, 'Logins'))\n",
    "try:\n",
    "    global inbox\n",
    "    \n",
    "    outlook = win32com.client.Dispatch(\"Outlook.Application\").GetNamespace(\"MAPI\")\n",
    "    inbox = outlook.Folders('ENGIENA-GSERNASERVICES (ENGIE North America)')\n",
    "    folder = inbox.Folders(\"Inbox\")\n",
    "    messages = folder.Items\n",
    "\n",
    "    aaron_filter = \"[SenderEmailAddress] = 'aaron.downing@eversource.com'\"\n",
    "    admin_filter = \"[SenderEmailAddress] = 'epoadmin@eversource.com'\"\n",
    "    ngrid_filter = \"[SenderEmailAddress] = 'michael.stanton@nationalgrid.com'\"\n",
    "\n",
    "    today = dt.datetime.now()\n",
    "\n",
    "    aaron = messages.Restrict(aaron_filter)\n",
    "    admin = messages.Restrict(admin_filter)\n",
    "    ngrid = messages.Restrict(ngrid_filter)\n",
    "    \n",
    "    print(len(aaron), 'aaron emails,', len(admin), 'epo emails', len(ngrid), 'ngrid emails')\n",
    "    \n",
    "    j = 0\n",
    "    error = 0\n",
    "    scrape = {}\n",
    "    \n",
    "\n",
    "    #scrape, j2 = iter_mail(aaron_to_dict, aaron, j)\n",
    "        \n",
    "    print('scraping emails...')\n",
    "    #start iterating through emails\n",
    "    mail = aaron.GetLast()\n",
    "    i = j\n",
    "    try:\n",
    "        print('init email')\n",
    "        msg_row = admin_to_dict(mail.Body)\n",
    "        msg_row.append(('date', str_to_date(mail.ReceivedTime)))\n",
    "\n",
    "        master = [(i, dict(msg_row))]\n",
    "    except:\n",
    "        master = []\n",
    "\n",
    "    i += 1\n",
    "   \n",
    "    while mail:\n",
    "\n",
    "        mail = aaron.GetPrevious()\n",
    "\n",
    "        try:\n",
    "            print('next email')\n",
    "            msg_row = admin_to_dict(mail.Body)\n",
    "            msg_row.append(('date', str_to_date(mail.ReceivedTime)))\n",
    "\n",
    "            msg_row = dict(msg_row)\n",
    "\n",
    "            new = (i, msg_row)\n",
    "\n",
    "            master.append(new)\n",
    "\n",
    "            i += 1\n",
    "\n",
    "\n",
    "        except:\n",
    "            pass\n",
    "\n",
    "    master = dict(master)\n",
    "\n",
    "except:\n",
    "    print(\"job failed.\")"
   ]
  },
  {
   "cell_type": "code",
   "execution_count": 3,
   "metadata": {},
   "outputs": [
    {
     "ename": "NameError",
     "evalue": "name 'master' is not defined",
     "output_type": "error",
     "traceback": [
      "\u001b[0;31m---------------------------------------------------------------------------\u001b[0m",
      "\u001b[0;31mNameError\u001b[0m                                 Traceback (most recent call last)",
      "\u001b[0;32m/var/folders/bx/9_vlv5nn2_59z73ygpc6z_0m0000gn/T/ipykernel_59510/2493375025.py\u001b[0m in \u001b[0;36m<module>\u001b[0;34m\u001b[0m\n\u001b[0;32m----> 1\u001b[0;31m \u001b[0mmaster\u001b[0m\u001b[0;34m\u001b[0m\u001b[0;34m\u001b[0m\u001b[0m\n\u001b[0m",
      "\u001b[0;31mNameError\u001b[0m: name 'master' is not defined"
     ]
    }
   ],
   "source": [
    "master"
   ]
  },
  {
   "cell_type": "code",
   "execution_count": 3,
   "metadata": {},
   "outputs": [
    {
     "name": "stdout",
     "output_type": "stream",
     "text": [
      "defined functions.\n"
     ]
    }
   ],
   "source": [
    "basepath = os.getcwd()\n",
    "\n",
    "def flatten(l):\n",
    "    out = []\n",
    "    for item in l:\n",
    "        if isinstance(item, (list, tuple)):\n",
    "            out.extend(flatten(item))\n",
    "        else:\n",
    "            if item != '' and item != ' ':\n",
    "                out.append(item)\n",
    "    return out\n",
    "\n",
    "def clean_acct(acct):\n",
    "    return ''.join(acct.split(' - '))\n",
    "\n",
    "def str_to_date(datestring):\n",
    "    return (dt.datetime.strptime(str(datestring).split('+')[0],\"%Y-%m-%d %H:%M:%S\"))\n",
    "\n",
    "def date_to_str(datetime_obj):\n",
    "    return (dt.datetime.strftime(datetime_obj, format = '%m/%d/%Y %H:%M:%S'))\n",
    "\n",
    "def Merge(dict1, dict2): \n",
    "    res = {**dict1, **dict2} \n",
    "    return res \n",
    "\n",
    "def ba_sa_merge(a, b): \n",
    "    merged = []\n",
    "    \n",
    "    for k in range(0, len(a)):\n",
    "        m_acct = a[k] + '_' + b[k]\n",
    "        merged.append(m_acct)\n",
    "    return merged\n",
    "\n",
    "\n",
    "def aaron_to_dict(body):\n",
    "    \n",
    "    parse = body.split('\\n')\n",
    "    parse = [thing.splitlines() for thing in parse]\n",
    "\n",
    "    parse2 = flatten(parse)\n",
    "    strp_len = [len(item.strip(' ')) for item in parse2]\n",
    "\n",
    "    acct_start = parse2.index('Account Number(s): ') + 1\n",
    "    acct_end = strp_len.index(0)\n",
    "\n",
    "    for item in parse2:\n",
    "\n",
    "        split_item = item.split(': ')\n",
    "        if split_item[0]  == 'User Id':\n",
    "            user = ('user', split_item[1])\n",
    "        \n",
    "        elif split_item[0] == 'Password':\n",
    "            pw = ('pw', split_item[1])\n",
    "            \n",
    "        elif split_item[0] == 'Customer':\n",
    "            name = ('name', split_item[1])\n",
    "        \n",
    "        \n",
    "    accts = parse2[acct_start:acct_end]\n",
    "    clean_accts = [clean_acct(acct) for acct in accts]\n",
    "    accts_tup = ('accts', clean_accts)\n",
    "    row = [user, pw, name, accts_tup]\n",
    "    return row\n",
    "\n",
    "\n",
    "def admin_to_dict(body):\n",
    "    \n",
    "    parse = body.split('\\n')\n",
    "    parse = [thing.splitlines() for thing in parse]\n",
    "\n",
    "    parse2 = flatten(parse)\n",
    "    \n",
    "    if (len(body) > 2500) or (\"SA Number\" in body):\n",
    "\n",
    "        try:\n",
    "            ba_list = [''.join(elem.split('-')) for elem in parse2[9].split(' ')]\n",
    "\n",
    "            sa_list = [elem for elem in parse2[10].split(' ')]\n",
    "            \n",
    "            accts = ('accts', ba_sa_merge(ba_list, sa_list))\n",
    "\n",
    "            for item in parse2:\n",
    "\n",
    "                split_item = item.split(': ')\n",
    "                if split_item[0]  == 'User Id':\n",
    "                    user = ('user', split_item[1])\n",
    "        \n",
    "                elif split_item[0] == 'Password':\n",
    "                    pw = ('pw', split_item[1])\n",
    "            \n",
    "                elif split_item[0] == 'Customer':\n",
    "                    name = ('name', split_item[1])\n",
    "                    \n",
    "            row = [user, pw, name, accts]\n",
    "                \n",
    "        except:\n",
    "            \n",
    "            for index, item in enumerate(parse2):\n",
    "                if item.lower() == 'user id':\n",
    "                    special_index = index\n",
    "\n",
    "            name = ('name', parse2[special_index + 1])\n",
    "            ba_list = parse2[special_index + 2].split(' ')\n",
    "            sa_list = parse2[special_index + 3].split(' ')\n",
    "            user = ('user', parse2[special_index + 4])\n",
    "            pw = ('pw', parse2[special_index + 6])\n",
    "\n",
    "            ba_list = [ba.replace('-', '') for ba in ba_list]\n",
    "                    \n",
    "            accts = ('accts', ba_sa_merge(ba_list, sa_list))\n",
    "                    \n",
    "            row = [user, pw, name, accts]        \n",
    "                    \n",
    "                    \n",
    "                    \n",
    "\n",
    "    else:\n",
    "        for item in parse2:\n",
    "\n",
    "            split_item = item.split(': ')\n",
    "        \n",
    "            if split_item[0]  == 'User ID':\n",
    "                user = ('user', split_item[1])\n",
    "        \n",
    "            elif split_item[0] == 'Password':\n",
    "                pw = ('pw', split_item[1])\n",
    "            \n",
    "            elif split_item[0] == 'Customer':\n",
    "                name = ('name', split_item[1])\n",
    "\n",
    "            elif split_item[0] == 'Account Number':\n",
    "                acct_list = [str(acct) for acct in split_item[1].split(' ')]\n",
    "                accts = ('accts', acct_list)\n",
    "        \n",
    "        row = [user, pw, name, accts]\n",
    "    \n",
    "    return(row)\n",
    "\n",
    "def ngrid_to_dict(body):\n",
    "    \n",
    "    parse = body.split('\\n')\n",
    "    parse = [thing.splitlines() for thing in parse]\n",
    "\n",
    "    parse2 = flatten(parse)\n",
    "    accts_list = []\n",
    "    names_list = []\n",
    "        \n",
    "    for item in parse2:\n",
    "        split_item = item.split(': ')\n",
    "        if split_item[0] == 'Userid':\n",
    "            username = split_item[1].replace(' ', '')\n",
    "            user = ('user', username)\n",
    "        \n",
    "        if split_item[0] == 'Password':\n",
    "            password = split_item[1].replace(' ', '')\n",
    "            pw = ('pw', password)\n",
    "        \n",
    "        try:\n",
    "            split_item2 = [thing.split(' ') for thing in split_item][0]\n",
    "            split_item3 = list(filter(None, split_item2))\n",
    "            int(split_item3[0])\n",
    "            accts_list.append(split_item3[0])\n",
    "            full_name = ' '.join(split_item3[1:])\n",
    "            names_list.append(full_name)\n",
    "        \n",
    "        except:\n",
    "            pass\n",
    "        \n",
    "    accts = ('accts', accts_list)\n",
    "    name = ('name', names_list)\n",
    "        \n",
    "    row = [user, pw, name, accts]\n",
    "    return(row)\n",
    "\n",
    "\n",
    "def iter_mail(sender_func, mailbox, index):\n",
    "\n",
    "    print('scraping emails...')\n",
    "    #start iterating through emails\n",
    "    mail = mailbox.GetLast()\n",
    "    i = index\n",
    "    try:\n",
    "        msg_row = sender_func(mail.Body)\n",
    "        msg_row.append(('date', str_to_date(mail.ReceivedTime)))\n",
    "\n",
    "        master = [(i, dict(msg_row))]\n",
    "    except:\n",
    "        master = []\n",
    "    \n",
    "    i += 1\n",
    "   \n",
    "    while mail:\n",
    "        \n",
    "        mail = mailbox.GetPrevious()\n",
    "        \n",
    "        try:\n",
    "            msg_row = sender_func(mail.Body)\n",
    "            msg_row.append(('date', str_to_date(mail.ReceivedTime)))\n",
    "            \n",
    "            msg_row = dict(msg_row)\n",
    "\n",
    "            new = (i, msg_row)\n",
    "        \n",
    "            master.append(new)\n",
    "            \n",
    "            i += 1\n",
    "            \n",
    "        \n",
    "        except:\n",
    "            pass\n",
    "            \n",
    "    master = dict(master)\n",
    "            \n",
    "    return(master, i)\n",
    "\n",
    "    \n",
    "\n",
    "\n",
    "# ### Get Filtered Messages (Sender, Date, Body)\n",
    "\n",
    "# aaron_to_dict will gives a dictionary for each account of the structure  \n",
    "#   \n",
    "#     {'user': 'nhengi-ston3n',\n",
    "#          'pw': 'fm54f7',\n",
    "#          'name': 'STONEWALL KITCHEN LLC',\n",
    "#          'accts': ['800531501']}  \n",
    "#  \n",
    "#  The following code will add the date email is received (if within last week) w/ structure: \n",
    "#    \n",
    "#      {'user': 'nhengi-ston3n',\n",
    "#          'pw': 'fm54f7',\n",
    "#          'name': 'STONEWALL KITCHEN LLC',\n",
    "#          'accts': ['800531501'],\n",
    "#          'date': datetime.datetime(2019, 5, 16, 10, 17, 21)}\n",
    "#  \n",
    "#  nest these dictionaries into a scary looking dictionary:\n",
    "#  \n",
    "#      {0: {'user': 'nhengi-ston3n', \n",
    "#             'pw': 'fm54f7', \n",
    "#             'name': 'STONEWALL KITCHEN LLC', \n",
    "#             'accts': ['800531501'], \n",
    "#             'date': datetime.datetime(2019, 5, 16, 10, 17, 21)}, \n",
    "#       1: {'user': 'nhengi-morg1n', \n",
    "#             'pw': '6z2s5e', \n",
    "#             'name': 'MORGAN ADVANCED CERAMICS', \\\n",
    "#             'accts': ['800514701'], \n",
    "#             'date': datetime.datetime(2019, 4, 17, 12, 34, 30)}, \n",
    "#       2: {'user': 'nhengi-ferr1n', \n",
    "#             'pw': 'xx27b4', \n",
    "#             'name': 'FERROTEC AMERICA CORP', \n",
    "#             'accts': ['800511301'], \n",
    "#             'date': datetime.datetime(2019, 4, 17, 12, 7, 55)},\n",
    "#         \n",
    "#             #.....\n",
    "\n",
    "#https://docs.microsoft.com/en-us/office/vba/api/outlook.mailitem\n",
    "\n",
    "def get_emails():\n",
    "\n",
    "    global inbox\n",
    "    \n",
    "    outlook = win32com.client.Dispatch(\"Outlook.Application\").GetNamespace(\"MAPI\")\n",
    "    inbox = outlook.Folders('ENGIENA-GSERNASERVICES (ENGIE North America)')\n",
    "    folder = inbox.Folders(\"Inbox\")\n",
    "    messages = folder.Items\n",
    "\n",
    "    aaron_filter = \"[SenderEmailAddress] = 'aaron.downing@eversource.com'\"\n",
    "    admin_filter = \"[SenderEmailAddress] = 'epoadmin@eversource.com'\"\n",
    "    ngrid_filter = \"[SenderEmailAddress] = 'michael.stanton@nationalgrid.com'\"\n",
    "\n",
    "    today = dt.datetime.now()\n",
    "\n",
    "    aaron = messages.Restrict(aaron_filter)\n",
    "    admin = messages.Restrict(admin_filter)\n",
    "    ngrid = messages.Restrict(ngrid_filter)\n",
    "    \n",
    "    print(len(aaron), 'aaron emails,', len(admin), 'epo emails', len(ngrid), 'ngrid emails')\n",
    "    \n",
    "    j = 0\n",
    "    error = 0\n",
    "    \n",
    "    try:\n",
    "        print('parsing aaron.downing@eversource.com inbox')\n",
    "        print('')\n",
    "        scrape, j2 = iter_mail(aaron_to_dict, aaron, j)\n",
    "        \n",
    "    except:\n",
    "        print('error parsing aaron')\n",
    "        error += 1\n",
    "        \n",
    "    \n",
    "    try:\n",
    "        print('parsing epoadmin@eversource.com')\n",
    "        print('')\n",
    "        admin_scrape, j3 = iter_mail(admin_to_dict, admin, j2)\n",
    "        master = Merge(scrape, admin_scrape)\n",
    "        \n",
    "    except:\n",
    "        print('error parsing EPO admin')\n",
    "        error += 1\n",
    "        master = {}\n",
    "    \n",
    "    try:\n",
    "        print('parsing michael.stanton@nationalgrid.com')\n",
    "        print('')\n",
    "        ngrid_scrape, j4 = iter_mail(ngrid_to_dict, ngrid, j3)\n",
    "        master = Merge(master, ngrid_scrape)\n",
    "        \n",
    "    except:\n",
    "        print('')\n",
    "        print('error parsing ngrid')\n",
    "        error += 1\n",
    "        if error == 3:\n",
    "            pass\n",
    "    \n",
    "\n",
    "    print('error with', error, 'of 3 inboxes')\n",
    "    print('found ', len(master.keys()), ' new emails: ')\n",
    "    \n",
    "    pretty_json = json.dumps(master, default = lambda date: date_to_str(date), sort_keys = True, indent = 4)\n",
    "    lame_json = json.dumps(master, default = lambda date: date_to_str(date), sort_keys = True)\n",
    "\n",
    "    json_name = 'email_bodies_' + date_to_str(today).split(' ')[0].replace('/', '_') + '.json'\n",
    "\n",
    "    print('writing .json object')\n",
    "    \n",
    "    os.chdir(os.path.join(basepath, 'Logins'))\n",
    "    \n",
    "    with open(json_name, 'w') as f:\n",
    "        json.dump(lame_json, f)\n",
    "    \n",
    "    #print(pretty_json)\n",
    "    return master, json_name\n",
    " \n",
    "    \n",
    "def bodies_json(bodies):\n",
    "\n",
    "    test = pd.DataFrame.from_dict(bodies, orient = 'index')\n",
    "\n",
    "    if type(test.date[0]) == str:\n",
    "            test.date = pd.to_datetime(test.date)\n",
    "\n",
    "    accts_success = [len(accts) > 0 for accts in test.accts]\n",
    "    accts_fail = [not val for val in accts_success]\n",
    "        \n",
    "    good = test[accts_success].reset_index(drop = True)\n",
    "    util = []\n",
    "    \n",
    "    for i, a in enumerate(good.accts):\n",
    "        first_acct = a[0]\n",
    "        leading = a[0][:2]\n",
    "        \n",
    "        if leading == '80':\n",
    "            util.append('PSNH')\n",
    "            \n",
    "        elif leading == '51' and (len(first_acct.split('_')) > 1):\n",
    "            util.append('CLP')\n",
    "            \n",
    "        elif leading == '54' and (len(first_acct.split('_')) > 1):\n",
    "            util.append('WMECO')\n",
    "                \n",
    "        else:\n",
    "            if 'SUEZ' in good.user[i]:\n",
    "                util.append('NGRID')\n",
    "                \n",
    "            else:\n",
    "                util.append('NSTAR')\n",
    "            \n",
    "    good['util'] = util\n",
    "        \n",
    "\n",
    "    email_error = []\n",
    "\n",
    "    if len(accts_fail) > 0:\n",
    "        bad = test[accts_fail].reset_index()\n",
    "        mail_error = 'EMAIL_SCRAPE_ERROR.csv'\n",
    "\n",
    "        bad.to_csv(mail_error, header = True, index = False)\n",
    "\n",
    "    return(good, bodies)\n",
    "\n",
    "\n",
    "print(\"defined functions.\")"
   ]
  },
  {
   "cell_type": "markdown",
   "metadata": {},
   "source": [
    "# debug"
   ]
  },
  {
   "cell_type": "code",
   "execution_count": 4,
   "metadata": {},
   "outputs": [
    {
     "data": {
      "text/plain": [
       "'/Users/stevenhurwitt/Documents/dealersocket-speedtest/IDR_Drop'"
      ]
     },
     "execution_count": 4,
     "metadata": {},
     "output_type": "execute_result"
    }
   ],
   "source": [
    "os.getcwd()"
   ]
  },
  {
   "cell_type": "code",
   "execution_count": 6,
   "metadata": {},
   "outputs": [
    {
     "name": "stdout",
     "output_type": "stream",
     "text": [
      "\u001b[34mDownloads\u001b[m\u001b[m                          \u001b[34mRaw_IDR\u001b[m\u001b[m\r\n",
      "EPOwebscrape.py                    __init__.py\r\n",
      "Eversource_nonEDI_IDR_requests.pdf \u001b[31m__init____20200120035935.py\u001b[m\u001b[m\r\n",
      "\u001b[34mIDR\u001b[m\u001b[m                                \u001b[34m__pycache__\u001b[m\u001b[m\r\n",
      "IDR.zip                            \u001b[31mchromedriver\u001b[m\u001b[m\r\n",
      "IDR_Drop.ipynb                     chromedriver.exe\r\n",
      "IDR_Drop_Portal.ipynb              \u001b[34mcsv_to_lse\u001b[m\u001b[m\r\n",
      "IDR_drop_gui.py                    db_connect.py\r\n",
      "IDRdrop.py                         emailscrape.py\r\n",
      "\u001b[31mIDRdrop__20200120035935.py\u001b[m\u001b[m         init.git\r\n",
      "\u001b[34mLogins\u001b[m\u001b[m                             \u001b[31minit__20200120035935.git\u001b[m\u001b[m\r\n",
      "PSNH_split.ipynb                   webscrape_debug.ipynb\r\n"
     ]
    }
   ],
   "source": [
    "! ls"
   ]
  },
  {
   "cell_type": "code",
   "execution_count": 14,
   "metadata": {},
   "outputs": [],
   "source": [
    "# ! touch __init__.py"
   ]
  },
  {
   "cell_type": "code",
   "execution_count": 19,
   "metadata": {},
   "outputs": [
    {
     "name": "stdout",
     "output_type": "stream",
     "text": [
      "Collecting cx_Oracle\n",
      "  Downloading cx_Oracle-8.2.1.tar.gz (359 kB)\n",
      "\u001b[K     |████████████████████████████████| 359 kB 4.0 MB/s eta 0:00:01\n",
      "\u001b[?25h  Installing build dependencies ... \u001b[?25ldone\n",
      "\u001b[?25h  Getting requirements to build wheel ... \u001b[?25ldone\n",
      "\u001b[?25h    Preparing wheel metadata ... \u001b[?25ldone\n",
      "\u001b[?25hBuilding wheels for collected packages: cx-Oracle\n",
      "  Building wheel for cx-Oracle (PEP 517) ... \u001b[?25ldone\n",
      "\u001b[?25h  Created wheel for cx-Oracle: filename=cx_Oracle-8.2.1-cp38-cp38-macosx_11_0_arm64.whl size=180855 sha256=01522ba54e934a02e63c829c4312122d4723de66dc87eacdc3bd63b799933e96\n",
      "  Stored in directory: /Users/stevenhurwitt/Library/Caches/pip/wheels/4a/24/ca/0ce823a8a0ee3e9adc1368bb8a5109ffec269728dcee2f60a0\n",
      "Successfully built cx-Oracle\n",
      "Installing collected packages: cx-Oracle\n",
      "Successfully installed cx-Oracle-8.2.1\n"
     ]
    }
   ],
   "source": [
    "! pip install cx_Oracle"
   ]
  },
  {
   "cell_type": "code",
   "execution_count": 5,
   "metadata": {},
   "outputs": [
    {
     "name": "stdout",
     "output_type": "stream",
     "text": [
      "failed to import db_connect.\n",
      "not on windows os: failed to import win32com.client.\n",
      "failed.\n",
      "failed to import emailscrape.\n",
      "failed to import IDRDrop.\n",
      "imported custom modules successfully.\n"
     ]
    }
   ],
   "source": [
    "try:\n",
    "    import db_connect as db\n",
    "except:\n",
    "    print(\"failed to import db_connect.\")\n",
    "try:\n",
    "    import emailscrape\n",
    "except:\n",
    "    print(\"failed to import emailscrape.\")\n",
    "try:\n",
    "    import IDRDrop\n",
    "except:\n",
    "    print(\"failed to import IDRDrop.\")\n",
    "\n",
    "print(\"imported custom modules successfully.\")"
   ]
  },
  {
   "cell_type": "code",
   "execution_count": 8,
   "metadata": {},
   "outputs": [
    {
     "data": {
      "text/plain": [
       "'/Users/stevenhurwitt/Documents/dealersocket-speedtest/IDR_Drop'"
      ]
     },
     "execution_count": 8,
     "metadata": {},
     "output_type": "execute_result"
    }
   ],
   "source": [
    "os.getcwd()"
   ]
  },
  {
   "cell_type": "code",
   "execution_count": 6,
   "metadata": {},
   "outputs": [
    {
     "name": "stdout",
     "output_type": "stream",
     "text": [
      "/Users/stevenhurwitt/Documents/dealersocket-speedtest/IDR_Drop\n",
      "['', 'Users', 'stevenhurwitt', 'Documents', 'dealersocket-speedtest', 'IDR_Drop']\n",
      "['', 'Users', 'stevenhurwitt', 'Documents', 'dealersocket-speedtest']\n",
      "/Users/stevenhurwitt/Documents/dealersocket-speedtest\n",
      "[Errno 2] No such file or directory: '/Users/stevenhurwitt/Documents/dealersocker-speedtest/'\n"
     ]
    }
   ],
   "source": [
    "base = os.getcwd()\n",
    "print(base)\n",
    "\n",
    "base_split = base.split(\"/\")\n",
    "print(base_split)\n",
    "\n",
    "new_base = base_split[:5]\n",
    "print(new_base)\n",
    "new_base2 = \"/\".join(new_base)\n",
    "print(new_base2)\n",
    "try:\n",
    "    os.chdir(new_base2)\n",
    "except:\n",
    "    print(\"changed to base: {}.\".format(new_base2))\n",
    "\n",
    "try:\n",
    "    os.chdir('/Users/stevenhurwitt/Documents/dealersocker-speedtest/')\n",
    "except FileNotFoundError as e:\n",
    "    print(e)"
   ]
  },
  {
   "cell_type": "code",
   "execution_count": 7,
   "metadata": {},
   "outputs": [
    {
     "name": "stdout",
     "output_type": "stream",
     "text": [
      "\u001b[34mIDR_Drop\u001b[m\u001b[m         README.md        requirements.txt\r\n",
      "LICENSE          \u001b[34mdealersocket\u001b[m\u001b[m\r\n"
     ]
    }
   ],
   "source": [
    "! ls"
   ]
  },
  {
   "cell_type": "markdown",
   "metadata": {},
   "source": [
    "## IDR_Drop"
   ]
  },
  {
   "cell_type": "code",
   "execution_count": 11,
   "metadata": {},
   "outputs": [],
   "source": [
    "import IDR_Drop"
   ]
  },
  {
   "cell_type": "code",
   "execution_count": 12,
   "metadata": {},
   "outputs": [
    {
     "data": {
      "text/plain": [
       "['__builtins__',\n",
       " '__cached__',\n",
       " '__doc__',\n",
       " '__file__',\n",
       " '__loader__',\n",
       " '__name__',\n",
       " '__package__',\n",
       " '__path__',\n",
       " '__spec__']"
      ]
     },
     "execution_count": 12,
     "metadata": {},
     "output_type": "execute_result"
    }
   ],
   "source": [
    "dir(IDR_Drop)"
   ]
  },
  {
   "cell_type": "markdown",
   "metadata": {},
   "source": [
    "## dealersocket"
   ]
  },
  {
   "cell_type": "code",
   "execution_count": 13,
   "metadata": {},
   "outputs": [],
   "source": [
    "import dealersocket"
   ]
  },
  {
   "cell_type": "code",
   "execution_count": 14,
   "metadata": {},
   "outputs": [
    {
     "data": {
      "text/plain": [
       "['__doc__',\n",
       " '__file__',\n",
       " '__loader__',\n",
       " '__name__',\n",
       " '__package__',\n",
       " '__path__',\n",
       " '__spec__']"
      ]
     },
     "execution_count": 14,
     "metadata": {},
     "output_type": "execute_result"
    }
   ],
   "source": [
    "dir(dealersocket)"
   ]
  },
  {
   "cell_type": "markdown",
   "metadata": {},
   "source": [
    "## pyspark"
   ]
  },
  {
   "cell_type": "code",
   "execution_count": 8,
   "metadata": {},
   "outputs": [
    {
     "name": "stdout",
     "output_type": "stream",
     "text": [
      "# conda environments:\n",
      "#\n",
      "                         /Users/stevenhurwitt/mambaforge\n",
      "                         /Users/stevenhurwitt/mambaforge/envs/miniforge\n",
      "                         /Users/stevenhurwitt/mambaforge/envs/reddit\n",
      "base                     /Users/stevenhurwitt/miniforge3\n",
      "dbt                      /Users/stevenhurwitt/miniforge3/envs/dbt\n",
      "dbx-p40                  /Users/stevenhurwitt/miniforge3/envs/dbx-p40\n",
      "dbx-p58                  /Users/stevenhurwitt/miniforge3/envs/dbx-p58\n",
      "dealersocket          *  /Users/stevenhurwitt/miniforge3/envs/dealersocket\n",
      "flask                    /Users/stevenhurwitt/miniforge3/envs/flask\n",
      "kafka                    /Users/stevenhurwitt/miniforge3/envs/kafka\n",
      "reddit                   /Users/stevenhurwitt/miniforge3/envs/reddit\n",
      "speedtest                /Users/stevenhurwitt/miniforge3/envs/speedtest\n",
      "                         /opt/homebrew/Caskroom/miniconda/base\n",
      "                         /opt/homebrew/anaconda3\n",
      "\n"
     ]
    }
   ],
   "source": [
    "! conda env list"
   ]
  },
  {
   "cell_type": "code",
   "execution_count": 10,
   "metadata": {},
   "outputs": [],
   "source": [
    "# ! conda activate dbx-p40"
   ]
  },
  {
   "cell_type": "code",
   "execution_count": 11,
   "metadata": {},
   "outputs": [],
   "source": [
    "# ! python3.7 -m ipykernel install --user --name=dbx-p40"
   ]
  },
  {
   "cell_type": "code",
   "execution_count": 12,
   "metadata": {},
   "outputs": [],
   "source": [
    "# ! python3.7 -m ipykernel install --user --name=dbx-p58"
   ]
  },
  {
   "cell_type": "code",
   "execution_count": 13,
   "metadata": {},
   "outputs": [],
   "source": [
    "# ! python3.7 -m ipykernel install --user --name=dealersocket"
   ]
  },
  {
   "cell_type": "code",
   "execution_count": 14,
   "metadata": {},
   "outputs": [],
   "source": [
    "# ! python3.7 -m ipykernel install --user --name=reddit"
   ]
  },
  {
   "cell_type": "code",
   "execution_count": 15,
   "metadata": {},
   "outputs": [],
   "source": [
    "# ! python3.7 -m ipykernel install --user --name=kafka"
   ]
  },
  {
   "cell_type": "code",
   "execution_count": 16,
   "metadata": {},
   "outputs": [],
   "source": [
    "# ! python3.7 -m ipykernel install --user --name=flask"
   ]
  },
  {
   "cell_type": "code",
   "execution_count": 17,
   "metadata": {},
   "outputs": [],
   "source": [
    "# ! python3.7 -m ipykernel install --user --name=speedtest"
   ]
  },
  {
   "cell_type": "code",
   "execution_count": 18,
   "metadata": {},
   "outputs": [],
   "source": [
    "# ! python3.7 -m ipykernel install --user --name=dbt"
   ]
  },
  {
   "cell_type": "code",
   "execution_count": 20,
   "metadata": {},
   "outputs": [],
   "source": [
    "! source ~/.zshrc"
   ]
  },
  {
   "cell_type": "code",
   "execution_count": 22,
   "metadata": {},
   "outputs": [
    {
     "name": "stdout",
     "output_type": "stream",
     "text": [
      "\u001b[34mIDR_Drop\u001b[m\u001b[m         README.md        requirements.txt\r\n",
      "LICENSE          \u001b[34mdealersocket\u001b[m\u001b[m\r\n"
     ]
    }
   ],
   "source": [
    "! ls"
   ]
  },
  {
   "cell_type": "code",
   "execution_count": 23,
   "metadata": {},
   "outputs": [
    {
     "name": "stdout",
     "output_type": "stream",
     "text": [
      "/Users/stevenhurwitt/Documents/dealersocket-speedtest/IDR_Drop\n"
     ]
    }
   ],
   "source": [
    "print(base)"
   ]
  },
  {
   "cell_type": "markdown",
   "metadata": {},
   "source": [
    "## ch dir"
   ]
  },
  {
   "cell_type": "code",
   "execution_count": 24,
   "metadata": {},
   "outputs": [],
   "source": [
    "os.chdir(\"/Users/stevenhurwitt/Documents\")"
   ]
  },
  {
   "cell_type": "code",
   "execution_count": 25,
   "metadata": {},
   "outputs": [
    {
     "name": "stdout",
     "output_type": "stream",
     "text": [
      "\u001b[34m$RECYCLE.BIN\u001b[m\u001b[m                        \u001b[34mdealersocket-speedtest\u001b[m\u001b[m\r\n",
      "\u001b[34mKafkaRedditStream\u001b[m\u001b[m                   desktop.ini\r\n",
      "\u001b[34mKafkaRedditStream-og\u001b[m\u001b[m                \u001b[34mla-tools-test\u001b[m\u001b[m\r\n",
      "\u001b[34mSQL Server Management Studio\u001b[m\u001b[m        \u001b[34mpython-sample-vscode-flask-tutorial\u001b[m\u001b[m\r\n",
      "\u001b[34mVisual Studio 2017\u001b[m\u001b[m                  \u001b[34mspeedtest\u001b[m\u001b[m\r\n",
      "austin2017.jpeg                     steven-headshot.jpeg\r\n",
      "\u001b[34mbpDataAnalyticsToolkit-DBX\u001b[m\u001b[m\r\n"
     ]
    }
   ],
   "source": [
    "! ls"
   ]
  },
  {
   "cell_type": "markdown",
   "metadata": {},
   "source": [
    "## KafkaRedditStream"
   ]
  },
  {
   "cell_type": "code",
   "execution_count": 26,
   "metadata": {},
   "outputs": [
    {
     "name": "stdout",
     "output_type": "stream",
     "text": [
      "/Users/stevenhurwitt/Documents/KafkaRedditStream\n"
     ]
    }
   ],
   "source": [
    "cd KafkaRedditStream"
   ]
  },
  {
   "cell_type": "code",
   "execution_count": 27,
   "metadata": {},
   "outputs": [
    {
     "name": "stdout",
     "output_type": "stream",
     "text": [
      "Dockerfile              dbx-workspaces.json     \u001b[34mreddit\u001b[m\u001b[m\r\n",
      "Dockerfile.old          \u001b[34mdbx_tax_ala\u001b[m\u001b[m             \u001b[34mreddit-env\u001b[m\u001b[m\r\n",
      "Dockerfile.superold     \u001b[34mdist\u001b[m\u001b[m                    \u001b[34mreddit.egg-info\u001b[m\u001b[m\r\n",
      "README.md               docker-compose.yml      reddit.ipynb\r\n",
      "README2.md              docker.txt              setup.py\r\n",
      "README_DOCKER.md        \u001b[34mdocs\u001b[m\u001b[m                    sql-server.txt\r\n",
      "README_WHEEL.md         \u001b[34menv\u001b[m\u001b[m                     \u001b[34msrc\u001b[m\u001b[m\r\n",
      "\u001b[34m__pycache__\u001b[m\u001b[m             failed-test-results.txt startup.sh\r\n",
      "\u001b[34massets\u001b[m\u001b[m                  hi.txt                  test-results.txt\r\n",
      "\u001b[34mbuild\u001b[m\u001b[m                   jar-dir.json            test.json\r\n",
      "config.yaml             \u001b[34mkafka\u001b[m\u001b[m                   \u001b[34mtest_xdb\u001b[m\u001b[m\r\n",
      "dbt.yml                 license.txt             \u001b[34mtests\u001b[m\u001b[m\r\n",
      "dbt_project.yml         \u001b[34mmacros\u001b[m\u001b[m\r\n",
      "dbx-configure.txt       profiles.yml\r\n"
     ]
    }
   ],
   "source": [
    "! ls"
   ]
  },
  {
   "cell_type": "markdown",
   "metadata": {},
   "source": [
    "## reinstall wheel"
   ]
  },
  {
   "cell_type": "code",
   "execution_count": 30,
   "metadata": {},
   "outputs": [
    {
     "name": "stdout",
     "output_type": "stream",
     "text": [
      "Processing ./dist/reddit-0.0.1-py2.py3-none-any.whl\n",
      "Installing collected packages: reddit\n",
      "Successfully installed reddit-0.0.1\n"
     ]
    }
   ],
   "source": [
    "! pip install ./dist/reddit-0.0.1-py2.py3-none-any.whl --force-reinstall"
   ]
  },
  {
   "cell_type": "markdown",
   "metadata": {},
   "source": [
    "## pytest"
   ]
  },
  {
   "cell_type": "code",
   "execution_count": 31,
   "metadata": {},
   "outputs": [
    {
     "name": "stdout",
     "output_type": "stream",
     "text": [
      "\u001b[1m============================= test session starts ==============================\u001b[0m\n",
      "platform darwin -- Python 3.8.11, pytest-6.2.4, py-1.10.0, pluggy-0.13.1 -- /Users/stevenhurwitt/miniforge3/envs/dealersocket/bin/python\n",
      "cachedir: .pytest_cache\n",
      "rootdir: /Users/stevenhurwitt/Documents/KafkaRedditStream\n",
      "collected 20 items                                                             \u001b[0m\u001b[1m\n",
      "\n",
      "src/test/python/test_suite.py::test_imports_ok \u001b[31mFAILED\u001b[0m\u001b[31m                    [  5%]\u001b[0m\n",
      "src/test/python/test_suite.py::test_token_headers_has_keys \u001b[31mFAILED\u001b[0m\u001b[31m        [ 10%]\u001b[0m\n",
      "src/test/python/test_suite.py::test_token_body_has_bearer \u001b[31mFAILED\u001b[0m\u001b[31m         [ 15%]\u001b[0m\n",
      "src/test/python/test_suite.py::test_request_gets_200 \u001b[31mFAILED\u001b[0m\u001b[31m              [ 20%]\u001b[0m\n",
      "src/test/python/test_suite.py::test_request_data_length \u001b[31mFAILED\u001b[0m\u001b[31m           [ 25%]\u001b[0m\n",
      "src/test/python/test_suite.py::test_pandas_df \u001b[31mFAILED\u001b[0m\u001b[31m                     [ 30%]\u001b[0m\n",
      "src/test/python/test_suite.py::test_numpy_stats \u001b[32mPASSED\u001b[0m\u001b[31m                   [ 35%]\u001b[0m\n",
      "src/test/python/test_suite.py::test_os_base \u001b[32mPASSED\u001b[0m\u001b[31m                       [ 40%]\u001b[0m\n",
      "src/test/python/test_suite.py::test_json_is_str \u001b[31mFAILED\u001b[0m\u001b[31m                   [ 45%]\u001b[0m\n",
      "src/test/python/test_suite.py::test_np_unique \u001b[32mPASSED\u001b[0m\u001b[31m                     [ 50%]\u001b[0m\n",
      "src/test/python/test_suite.py::test_dt_now \u001b[32mPASSED\u001b[0m\u001b[31m                        [ 55%]\u001b[0m\n",
      "src/test/python/test_suite.py::test_dt_filename \u001b[32mPASSED\u001b[0m\u001b[31m                   [ 60%]\u001b[0m\n",
      "src/test/python/test_suite.py::test_df_file_extension \u001b[31mFAILED\u001b[0m\u001b[31m             [ 65%]\u001b[0m\n",
      "src/test/python/test_suite.py::test_df \u001b[31mFAILED\u001b[0m\u001b[31m                            [ 70%]\u001b[0m\n",
      "src/test/python/test_suite.py::test_df_after_token \u001b[31mFAILED\u001b[0m\u001b[31m                [ 75%]\u001b[0m\n",
      "src/test/python/test_suite.py::test_df_after_list \u001b[31mFAILED\u001b[0m\u001b[31m                 [ 80%]\u001b[0m\n",
      "src/test/python/test_suite.py::test_pandas_df_head \u001b[31mFAILED\u001b[0m\u001b[31m                [ 85%]\u001b[0m\n",
      "src/test/python/test_suite.py::test_pandas_df_tail \u001b[31mFAILED\u001b[0m\u001b[31m                [ 90%]\u001b[0m\n",
      "src/test/python/test_suite.py::test_dbx_connect \u001b[32mPASSED\u001b[0m\u001b[31m                   [ 95%]\u001b[0m\n",
      "src/test/python/test_suite.py::test_dbx \u001b[31mFAILED\u001b[0m\u001b[31m                           [100%]\u001b[0m\n",
      "\n",
      "=================================== FAILURES ===================================\n",
      "\u001b[31m\u001b[1m_______________________________ test_imports_ok ________________________________\u001b[0m\n",
      "\n",
      "    \u001b[94mdef\u001b[39;49;00m \u001b[92mtest_imports_ok\u001b[39;49;00m():\n",
      "        \u001b[33m\"\"\"\u001b[39;49;00m\n",
      "    \u001b[33m    test if imports work\u001b[39;49;00m\n",
      "    \u001b[33m\u001b[39;49;00m\n",
      "    \u001b[33m    returns: True\u001b[39;49;00m\n",
      "    \u001b[33m    \"\"\"\u001b[39;49;00m\n",
      "    \n",
      "        message = \u001b[33m\"\u001b[39;49;00m\u001b[33mfailed\u001b[39;49;00m\u001b[33m\"\u001b[39;49;00m\n",
      "        \u001b[94mtry\u001b[39;49;00m:\n",
      "            \u001b[94mfrom\u001b[39;49;00m \u001b[04m\u001b[96mreddit\u001b[39;49;00m \u001b[94mimport\u001b[39;49;00m token\n",
      "            \u001b[94mfrom\u001b[39;49;00m \u001b[04m\u001b[96mreddit\u001b[39;49;00m \u001b[94mimport\u001b[39;49;00m streaming\n",
      "            \u001b[90m# import reddit.token as token\u001b[39;49;00m\n",
      "            \u001b[90m# from reddit.token import *\u001b[39;49;00m\n",
      "            message = \u001b[33m\"\u001b[39;49;00m\u001b[33mpassed\u001b[39;49;00m\u001b[33m\"\u001b[39;49;00m\n",
      "    \n",
      "        \u001b[94mexcept\u001b[39;49;00m:\n",
      "            \u001b[94mpass\u001b[39;49;00m\n",
      "    \n",
      ">       \u001b[94massert\u001b[39;49;00m message == \u001b[33m\"\u001b[39;49;00m\u001b[33mpassed\u001b[39;49;00m\u001b[33m\"\u001b[39;49;00m\n",
      "\u001b[1m\u001b[31mE       AssertionError: assert 'failed' == 'passed'\u001b[0m\n",
      "\u001b[1m\u001b[31mE         - passed\u001b[0m\n",
      "\u001b[1m\u001b[31mE         + failed\u001b[0m\n",
      "\n",
      "\u001b[1m\u001b[31msrc/test/python/test_suite.py\u001b[0m:47: AssertionError\n",
      "\u001b[31m\u001b[1m_________________________ test_token_headers_has_keys __________________________\u001b[0m\n",
      "\n",
      "    \u001b[94mdef\u001b[39;49;00m \u001b[92mtest_token_headers_has_keys\u001b[39;49;00m():\n",
      "        \u001b[33m\"\"\"\u001b[39;49;00m\n",
      "    \u001b[33m    check if headers have expected keys.\u001b[39;49;00m\n",
      "    \u001b[33m\u001b[39;49;00m\n",
      "    \u001b[33m    returns: True\u001b[39;49;00m\n",
      "    \u001b[33m    \"\"\"\u001b[39;49;00m\n",
      "    \n",
      "        \u001b[90m# from reddit.token import *\u001b[39;49;00m\n",
      ">       \u001b[94mfrom\u001b[39;49;00m \u001b[04m\u001b[96mreddit\u001b[39;49;00m \u001b[94mimport\u001b[39;49;00m token\n",
      "\u001b[1m\u001b[31mE         File \"/Users/stevenhurwitt/miniforge3/envs/dealersocket/lib/python3.8/site-packages/reddit/token.py\", line 25\u001b[0m\n",
      "\u001b[1m\u001b[31mE           with open(path, 'r') as f:\u001b[0m\n",
      "\u001b[1m\u001b[31mE           ^\u001b[0m\n",
      "\u001b[1m\u001b[31mE       SyntaxError: invalid syntax\u001b[0m\n",
      "\n",
      "\u001b[1m\u001b[31msrc/test/python/test_suite.py\u001b[0m:57: SyntaxError\n",
      "\u001b[31m\u001b[1m__________________________ test_token_body_has_bearer __________________________\u001b[0m\n",
      "\n",
      "    \u001b[94mdef\u001b[39;49;00m \u001b[92mtest_token_body_has_bearer\u001b[39;49;00m():\n",
      "        \u001b[33m\"\"\"\u001b[39;49;00m\n",
      "    \u001b[33m    Test if request body has bearer token.\u001b[39;49;00m\n",
      "    \u001b[33m\u001b[39;49;00m\n",
      "    \u001b[33m    returns: True\u001b[39;49;00m\n",
      "    \u001b[33m    \"\"\"\u001b[39;49;00m\n",
      "    \n",
      "        \u001b[90m# from reddit.token import *\u001b[39;49;00m\n",
      ">       \u001b[94mfrom\u001b[39;49;00m \u001b[04m\u001b[96mreddit\u001b[39;49;00m \u001b[94mimport\u001b[39;49;00m token\n",
      "\u001b[1m\u001b[31mE         File \"/Users/stevenhurwitt/miniforge3/envs/dealersocket/lib/python3.8/site-packages/reddit/token.py\", line 25\u001b[0m\n",
      "\u001b[1m\u001b[31mE           with open(path, 'r') as f:\u001b[0m\n",
      "\u001b[1m\u001b[31mE           ^\u001b[0m\n",
      "\u001b[1m\u001b[31mE       SyntaxError: invalid syntax\u001b[0m\n",
      "\n",
      "\u001b[1m\u001b[31msrc/test/python/test_suite.py\u001b[0m:76: SyntaxError\n",
      "\u001b[31m\u001b[1m____________________________ test_request_gets_200 _____________________________\u001b[0m\n",
      "\n",
      "    \u001b[94mdef\u001b[39;49;00m \u001b[92mtest_request_gets_200\u001b[39;49;00m():\n",
      "        \u001b[33m\"\"\"\u001b[39;49;00m\n",
      "    \u001b[33m    Test if requests returns status code 200.\u001b[39;49;00m\n",
      "    \u001b[33m    \"\"\"\u001b[39;49;00m\n",
      "    \n",
      "        \u001b[90m# from reddit.token import *\u001b[39;49;00m\n",
      ">       \u001b[94mfrom\u001b[39;49;00m \u001b[04m\u001b[96mreddit\u001b[39;49;00m \u001b[94mimport\u001b[39;49;00m token\n",
      "\u001b[1m\u001b[31mE         File \"/Users/stevenhurwitt/miniforge3/envs/dealersocket/lib/python3.8/site-packages/reddit/token.py\", line 25\u001b[0m\n",
      "\u001b[1m\u001b[31mE           with open(path, 'r') as f:\u001b[0m\n",
      "\u001b[1m\u001b[31mE           ^\u001b[0m\n",
      "\u001b[1m\u001b[31mE       SyntaxError: invalid syntax\u001b[0m\n",
      "\n",
      "\u001b[1m\u001b[31msrc/test/python/test_suite.py\u001b[0m:88: SyntaxError\n",
      "\u001b[31m\u001b[1m___________________________ test_request_data_length ___________________________\u001b[0m\n",
      "\n",
      "    \u001b[94mdef\u001b[39;49;00m \u001b[92mtest_request_data_length\u001b[39;49;00m():\n",
      "        \u001b[33m\"\"\"\u001b[39;49;00m\n",
      "    \u001b[33m    Tests if request data is expected length.\u001b[39;49;00m\n",
      "    \u001b[33m    \"\"\"\u001b[39;49;00m\n",
      "    \n",
      "        \u001b[90m# from reddit.token import *\u001b[39;49;00m\n",
      ">       \u001b[94mfrom\u001b[39;49;00m \u001b[04m\u001b[96mreddit\u001b[39;49;00m \u001b[94mimport\u001b[39;49;00m token\n",
      "\u001b[1m\u001b[31mE         File \"/Users/stevenhurwitt/miniforge3/envs/dealersocket/lib/python3.8/site-packages/reddit/token.py\", line 25\u001b[0m\n",
      "\u001b[1m\u001b[31mE           with open(path, 'r') as f:\u001b[0m\n",
      "\u001b[1m\u001b[31mE           ^\u001b[0m\n",
      "\u001b[1m\u001b[31mE       SyntaxError: invalid syntax\u001b[0m\n",
      "\n",
      "\u001b[1m\u001b[31msrc/test/python/test_suite.py\u001b[0m:103: SyntaxError\n",
      "\u001b[31m\u001b[1m________________________________ test_pandas_df ________________________________\u001b[0m\n",
      "\n",
      "    \u001b[94mdef\u001b[39;49;00m \u001b[92mtest_pandas_df\u001b[39;49;00m():\n",
      "        \u001b[33m\"\"\"\u001b[39;49;00m\n",
      "    \u001b[33m    test get pandas df length\u001b[39;49;00m\n",
      "    \u001b[33m    \"\"\"\u001b[39;49;00m\n",
      "    \n",
      "        \u001b[90m# from reddit.token import *\u001b[39;49;00m\n",
      ">       \u001b[94mfrom\u001b[39;49;00m \u001b[04m\u001b[96mreddit\u001b[39;49;00m \u001b[94mimport\u001b[39;49;00m token\n",
      "\u001b[1m\u001b[31mE         File \"/Users/stevenhurwitt/miniforge3/envs/dealersocket/lib/python3.8/site-packages/reddit/token.py\", line 25\u001b[0m\n",
      "\u001b[1m\u001b[31mE           with open(path, 'r') as f:\u001b[0m\n",
      "\u001b[1m\u001b[31mE           ^\u001b[0m\n",
      "\u001b[1m\u001b[31mE       SyntaxError: invalid syntax\u001b[0m\n",
      "\n",
      "\u001b[1m\u001b[31msrc/test/python/test_suite.py\u001b[0m:121: SyntaxError\n",
      "\u001b[31m\u001b[1m_______________________________ test_json_is_str _______________________________\u001b[0m\n",
      "\n",
      "    \u001b[94mdef\u001b[39;49;00m \u001b[92mtest_json_is_str\u001b[39;49;00m():\n",
      "        \u001b[33m\"\"\"\u001b[39;49;00m\n",
      "    \u001b[33m    test is json is a str.\u001b[39;49;00m\n",
      "    \u001b[33m    \"\"\"\u001b[39;49;00m\n",
      "    \n",
      "        \u001b[90m# from reddit.token import *\u001b[39;49;00m\n",
      ">       \u001b[94mfrom\u001b[39;49;00m \u001b[04m\u001b[96mreddit\u001b[39;49;00m \u001b[94mimport\u001b[39;49;00m token\n",
      "\u001b[1m\u001b[31mE         File \"/Users/stevenhurwitt/miniforge3/envs/dealersocket/lib/python3.8/site-packages/reddit/token.py\", line 25\u001b[0m\n",
      "\u001b[1m\u001b[31mE           with open(path, 'r') as f:\u001b[0m\n",
      "\u001b[1m\u001b[31mE           ^\u001b[0m\n",
      "\u001b[1m\u001b[31mE       SyntaxError: invalid syntax\u001b[0m\n",
      "\n",
      "\u001b[1m\u001b[31msrc/test/python/test_suite.py\u001b[0m:191: SyntaxError\n",
      "\u001b[31m\u001b[1m____________________________ test_df_file_extension ____________________________\u001b[0m\n",
      "\n",
      "    \u001b[94mdef\u001b[39;49;00m \u001b[92mtest_df_file_extension\u001b[39;49;00m():\n",
      "        \u001b[33m\"\"\"\u001b[39;49;00m\n",
      "    \u001b[33m    test file extension.\u001b[39;49;00m\n",
      "    \u001b[33m    \"\"\"\u001b[39;49;00m\n",
      "        extension = \u001b[33m\"\u001b[39;49;00m\u001b[33mjson\u001b[39;49;00m\u001b[33m\"\u001b[39;49;00m\n",
      "        now = dt.datetime.now()\n",
      "        freeze_now = \u001b[33m\"\u001b[39;49;00m\u001b[33m2021-08-27 11:39:13.176357\u001b[39;49;00m\u001b[33m\"\u001b[39;49;00m\n",
      "        freeze_now_dt = pd.to_datetime(freeze_now)\n",
      "    \n",
      "        \u001b[90m# now_str = \"{}_{}_{}_{}.{}\".format(freeze_now_dt.date, freeze_now_dt.hour, freeze_now_dt.minute, freeze_now_dt.second, extension)\u001b[39;49;00m\n",
      ">       \u001b[94massert\u001b[39;49;00m \u001b[96mstr\u001b[39;49;00m(freeze_now_dt.date) == \u001b[33m\"\u001b[39;49;00m\u001b[33m<bound method datetime.date of Timestamp(\u001b[39;49;00m\u001b[33m'\u001b[39;49;00m\u001b[33m2021-08-27 11:39:13.176357\u001b[39;49;00m\u001b[33m'\u001b[39;49;00m\u001b[33m)>\u001b[39;49;00m\u001b[33m\"\u001b[39;49;00m\n",
      "\u001b[1m\u001b[31mE       assert '<built-in me... 0x13d39c5f0>' == \"<bound metho...:13.176357')>\"\u001b[0m\n",
      "\u001b[1m\u001b[31mE         - <bound method datetime.date of Timestamp('2021-08-27 11:39:13.176357')>\u001b[0m\n",
      "\u001b[1m\u001b[31mE         + <built-in method date of Timestamp object at 0x13d39c5f0>\u001b[0m\n",
      "\n",
      "\u001b[1m\u001b[31msrc/test/python/test_suite.py\u001b[0m:261: AssertionError\n",
      "\u001b[31m\u001b[1m___________________________________ test_df ____________________________________\u001b[0m\n",
      "\n",
      "    \u001b[94mdef\u001b[39;49;00m \u001b[92mtest_df\u001b[39;49;00m():\n",
      "        \u001b[33m\"\"\"\u001b[39;49;00m\n",
      "    \u001b[33m    test get df\u001b[39;49;00m\n",
      "    \u001b[33m    \"\"\"\u001b[39;49;00m\n",
      "        \u001b[90m# from reddit.token import *\u001b[39;49;00m\n",
      ">       \u001b[94mfrom\u001b[39;49;00m \u001b[04m\u001b[96mreddit\u001b[39;49;00m \u001b[94mimport\u001b[39;49;00m token\n",
      "\u001b[1m\u001b[31mE         File \"/Users/stevenhurwitt/miniforge3/envs/dealersocket/lib/python3.8/site-packages/reddit/token.py\", line 25\u001b[0m\n",
      "\u001b[1m\u001b[31mE           with open(path, 'r') as f:\u001b[0m\n",
      "\u001b[1m\u001b[31mE           ^\u001b[0m\n",
      "\u001b[1m\u001b[31mE       SyntaxError: invalid syntax\u001b[0m\n",
      "\n",
      "\u001b[1m\u001b[31msrc/test/python/test_suite.py\u001b[0m:269: SyntaxError\n",
      "\u001b[31m\u001b[1m_____________________________ test_df_after_token ______________________________\u001b[0m\n",
      "\n",
      "    \u001b[94mdef\u001b[39;49;00m \u001b[92mtest_df_after_token\u001b[39;49;00m():\n",
      "        \u001b[33m\"\"\"\u001b[39;49;00m\n",
      "    \u001b[33m    test df pagination token\u001b[39;49;00m\n",
      "    \u001b[33m    \"\"\"\u001b[39;49;00m\n",
      "        \u001b[90m# from reddit.token import *\u001b[39;49;00m\n",
      ">       \u001b[94mfrom\u001b[39;49;00m \u001b[04m\u001b[96mreddit\u001b[39;49;00m \u001b[94mimport\u001b[39;49;00m token\n",
      "\u001b[1m\u001b[31mE         File \"/Users/stevenhurwitt/miniforge3/envs/dealersocket/lib/python3.8/site-packages/reddit/token.py\", line 25\u001b[0m\n",
      "\u001b[1m\u001b[31mE           with open(path, 'r') as f:\u001b[0m\n",
      "\u001b[1m\u001b[31mE           ^\u001b[0m\n",
      "\u001b[1m\u001b[31mE       SyntaxError: invalid syntax\u001b[0m\n",
      "\n",
      "\u001b[1m\u001b[31msrc/test/python/test_suite.py\u001b[0m:291: SyntaxError\n",
      "\u001b[31m\u001b[1m______________________________ test_df_after_list ______________________________\u001b[0m\n",
      "\n",
      "    \u001b[94mdef\u001b[39;49;00m \u001b[92mtest_df_after_list\u001b[39;49;00m():\n",
      "        \u001b[33m\"\"\"\u001b[39;49;00m\n",
      "    \u001b[33m    test df after list of tokens\u001b[39;49;00m\n",
      "    \u001b[33m    \"\"\"\u001b[39;49;00m\n",
      "        \u001b[90m# from reddit.token import *\u001b[39;49;00m\n",
      ">       \u001b[94mfrom\u001b[39;49;00m \u001b[04m\u001b[96mreddit\u001b[39;49;00m \u001b[94mimport\u001b[39;49;00m token\n",
      "\u001b[1m\u001b[31mE         File \"/Users/stevenhurwitt/miniforge3/envs/dealersocket/lib/python3.8/site-packages/reddit/token.py\", line 25\u001b[0m\n",
      "\u001b[1m\u001b[31mE           with open(path, 'r') as f:\u001b[0m\n",
      "\u001b[1m\u001b[31mE           ^\u001b[0m\n",
      "\u001b[1m\u001b[31mE       SyntaxError: invalid syntax\u001b[0m\n",
      "\n",
      "\u001b[1m\u001b[31msrc/test/python/test_suite.py\u001b[0m:313: SyntaxError\n",
      "\u001b[31m\u001b[1m_____________________________ test_pandas_df_head ______________________________\u001b[0m\n",
      "\n",
      "    \u001b[94mdef\u001b[39;49;00m \u001b[92mtest_pandas_df_head\u001b[39;49;00m():\n",
      "        \u001b[33m\"\"\"\u001b[39;49;00m\n",
      "    \u001b[33m    test pandas df.head().iloc[0] returns expected\u001b[39;49;00m\n",
      "    \u001b[33m    \"\"\"\u001b[39;49;00m\n",
      "        \u001b[90m# from reddit.token import *\u001b[39;49;00m\n",
      ">       \u001b[94mfrom\u001b[39;49;00m \u001b[04m\u001b[96mreddit\u001b[39;49;00m \u001b[94mimport\u001b[39;49;00m token\n",
      "\u001b[1m\u001b[31mE         File \"/Users/stevenhurwitt/miniforge3/envs/dealersocket/lib/python3.8/site-packages/reddit/token.py\", line 25\u001b[0m\n",
      "\u001b[1m\u001b[31mE           with open(path, 'r') as f:\u001b[0m\n",
      "\u001b[1m\u001b[31mE           ^\u001b[0m\n",
      "\u001b[1m\u001b[31mE       SyntaxError: invalid syntax\u001b[0m\n",
      "\n",
      "\u001b[1m\u001b[31msrc/test/python/test_suite.py\u001b[0m:336: SyntaxError\n",
      "\u001b[31m\u001b[1m_____________________________ test_pandas_df_tail ______________________________\u001b[0m\n",
      "\n",
      "    \u001b[94mdef\u001b[39;49;00m \u001b[92mtest_pandas_df_tail\u001b[39;49;00m():\n",
      "        \u001b[33m\"\"\"\u001b[39;49;00m\n",
      "    \u001b[33m    test str(df.tail().iloc[0]) is expected.\u001b[39;49;00m\n",
      "    \u001b[33m    \"\"\"\u001b[39;49;00m\n",
      "        \u001b[90m# from reddit.token import *\u001b[39;49;00m\n",
      ">       \u001b[94mfrom\u001b[39;49;00m \u001b[04m\u001b[96mreddit\u001b[39;49;00m \u001b[94mimport\u001b[39;49;00m token\n",
      "\u001b[1m\u001b[31mE         File \"/Users/stevenhurwitt/miniforge3/envs/dealersocket/lib/python3.8/site-packages/reddit/token.py\", line 25\u001b[0m\n",
      "\u001b[1m\u001b[31mE           with open(path, 'r') as f:\u001b[0m\n",
      "\u001b[1m\u001b[31mE           ^\u001b[0m\n",
      "\u001b[1m\u001b[31mE       SyntaxError: invalid syntax\u001b[0m\n",
      "\n",
      "\u001b[1m\u001b[31msrc/test/python/test_suite.py\u001b[0m:356: SyntaxError\n",
      "\u001b[31m\u001b[1m___________________________________ test_dbx ___________________________________\u001b[0m\n",
      "\n",
      "    \u001b[94mdef\u001b[39;49;00m \u001b[92mtest_dbx\u001b[39;49;00m():\n",
      "        \u001b[33m\"\"\"\u001b[39;49;00m\n",
      "    \u001b[33m    run databricks-connect test\u001b[39;49;00m\n",
      "    \u001b[33m    \"\"\"\u001b[39;49;00m\n",
      "        \u001b[94mtry\u001b[39;49;00m:\n",
      "            \u001b[90m# import findspark\u001b[39;49;00m\n",
      ">           \u001b[94mimport\u001b[39;49;00m \u001b[04m\u001b[96mpyspark\u001b[39;49;00m\n",
      "\u001b[1m\u001b[31mE           ModuleNotFoundError: No module named 'pyspark'\u001b[0m\n",
      "\n",
      "\u001b[1m\u001b[31msrc/test/python/test_suite.py\u001b[0m:411: ModuleNotFoundError\n",
      "\n",
      "\u001b[33mDuring handling of the above exception, another exception occurred:\u001b[0m\n",
      "\n",
      "    \u001b[94mdef\u001b[39;49;00m \u001b[92mtest_dbx\u001b[39;49;00m():\n",
      "        \u001b[33m\"\"\"\u001b[39;49;00m\n",
      "    \u001b[33m    run databricks-connect test\u001b[39;49;00m\n",
      "    \u001b[33m    \"\"\"\u001b[39;49;00m\n",
      "        \u001b[94mtry\u001b[39;49;00m:\n",
      "            \u001b[90m# import findspark\u001b[39;49;00m\n",
      "            \u001b[94mimport\u001b[39;49;00m \u001b[04m\u001b[96mpyspark\u001b[39;49;00m\n",
      "    \n",
      "        \u001b[94mexcept\u001b[39;49;00m:\n",
      ">           \u001b[94mraise\u001b[39;49;00m ModuleException(\u001b[33m\"\u001b[39;49;00m\u001b[33mmodules not found.\u001b[39;49;00m\u001b[33m\"\u001b[39;49;00m)\n",
      "\u001b[1m\u001b[31mE           NameError: name 'ModuleException' is not defined\u001b[0m\n",
      "\n",
      "\u001b[1m\u001b[31msrc/test/python/test_suite.py\u001b[0m:414: NameError\n",
      "=========================== short test summary info ============================\n",
      "FAILED src/test/python/test_suite.py::test_imports_ok - AssertionError: asser...\n",
      "FAILED src/test/python/test_suite.py::test_token_headers_has_keys -   File \"/...\n",
      "FAILED src/test/python/test_suite.py::test_token_body_has_bearer -   File \"/U...\n",
      "FAILED src/test/python/test_suite.py::test_request_gets_200 -   File \"/Users/...\n",
      "FAILED src/test/python/test_suite.py::test_request_data_length -   File \"/Use...\n",
      "FAILED src/test/python/test_suite.py::test_pandas_df -   File \"/Users/stevenh...\n",
      "FAILED src/test/python/test_suite.py::test_json_is_str -   File \"/Users/steve...\n",
      "FAILED src/test/python/test_suite.py::test_df_file_extension - assert '<built...\n",
      "FAILED src/test/python/test_suite.py::test_df -   File \"/Users/stevenhurwitt/...\n",
      "FAILED src/test/python/test_suite.py::test_df_after_token -   File \"/Users/st...\n",
      "FAILED src/test/python/test_suite.py::test_df_after_list -   File \"/Users/ste...\n",
      "FAILED src/test/python/test_suite.py::test_pandas_df_head -   File \"/Users/st...\n",
      "FAILED src/test/python/test_suite.py::test_pandas_df_tail -   File \"/Users/st...\n",
      "FAILED src/test/python/test_suite.py::test_dbx - NameError: name 'ModuleExcep...\n",
      "\u001b[31m========================= \u001b[31m\u001b[1m14 failed\u001b[0m, \u001b[32m6 passed\u001b[0m\u001b[31m in 0.88s\u001b[0m\u001b[31m =========================\u001b[0m\n"
     ]
    }
   ],
   "source": [
    "! pytest -v ./src/test/python/test_suite.py"
   ]
  },
  {
   "cell_type": "code",
   "execution_count": null,
   "metadata": {},
   "outputs": [],
   "source": []
  },
  {
   "cell_type": "code",
   "execution_count": null,
   "metadata": {},
   "outputs": [],
   "source": []
  },
  {
   "cell_type": "code",
   "execution_count": 21,
   "metadata": {},
   "outputs": [
    {
     "name": "stdout",
     "output_type": "stream",
     "text": [
      "zsh:1: command not found: databricks-connect\r\n"
     ]
    }
   ],
   "source": [
    "! databricks-connect test"
   ]
  },
  {
   "cell_type": "code",
   "execution_count": 145,
   "metadata": {},
   "outputs": [
    {
     "name": "stdout",
     "output_type": "stream",
     "text": [
      "Collecting findspark\n",
      "  Downloading findspark-1.4.2-py2.py3-none-any.whl (4.2 kB)\n",
      "Installing collected packages: findspark\n",
      "Successfully installed findspark-1.4.2\n"
     ]
    }
   ],
   "source": [
    "! python3.7 -m pip install findspark"
   ]
  },
  {
   "cell_type": "code",
   "execution_count": 146,
   "metadata": {},
   "outputs": [
    {
     "name": "stdout",
     "output_type": "stream",
     "text": [
      "Requirement already satisfied: databricks-connect==7.3.* in /Users/stevenhurwitt/.pyenv/versions/pypy3.7-7.3.5/site-packages (7.3.22)\r\n",
      "Requirement already satisfied: py4j==0.10.9 in /Users/stevenhurwitt/.pyenv/versions/pypy3.7-7.3.5/site-packages (from databricks-connect==7.3.*) (0.10.9)\r\n",
      "Requirement already satisfied: six in /Users/stevenhurwitt/.pyenv/versions/pypy3.7-7.3.5/site-packages (from databricks-connect==7.3.*) (1.16.0)\r\n"
     ]
    }
   ],
   "source": [
    "! python3.7 -m pip install \"databricks-connect==7.3.*\""
   ]
  },
  {
   "cell_type": "code",
   "execution_count": 149,
   "metadata": {},
   "outputs": [],
   "source": [
    "# import pyspark"
   ]
  },
  {
   "cell_type": "code",
   "execution_count": 143,
   "metadata": {},
   "outputs": [
    {
     "ename": "ModuleNotFoundError",
     "evalue": "No module named 'pyspark'",
     "output_type": "error",
     "traceback": [
      "\u001b[0;31m---------------------------------------------------------------------------\u001b[0m",
      "\u001b[0;31mModuleNotFoundError\u001b[0m                       Traceback (most recent call last)",
      "\u001b[0;32m/var/folders/bx/9_vlv5nn2_59z73ygpc6z_0m0000gn/T/ipykernel_57261/1538329743.py\u001b[0m in \u001b[0;36m<module>\u001b[0;34m\u001b[0m\n\u001b[0;32m----> 1\u001b[0;31m \u001b[0;32mfrom\u001b[0m \u001b[0mpyspark\u001b[0m\u001b[0;34m.\u001b[0m\u001b[0msql\u001b[0m \u001b[0;32mimport\u001b[0m \u001b[0mSparkSession\u001b[0m\u001b[0;34m\u001b[0m\u001b[0;34m\u001b[0m\u001b[0m\n\u001b[0m\u001b[1;32m      2\u001b[0m \u001b[0mspark\u001b[0m \u001b[0;34m=\u001b[0m \u001b[0mSparkSession\u001b[0m\u001b[0;34m.\u001b[0m\u001b[0mbuilder\u001b[0m\u001b[0;34m.\u001b[0m\u001b[0mgetOrCreate\u001b[0m\u001b[0;34m(\u001b[0m\u001b[0;34m)\u001b[0m\u001b[0;34m\u001b[0m\u001b[0;34m\u001b[0m\u001b[0m\n",
      "\u001b[0;31mModuleNotFoundError\u001b[0m: No module named 'pyspark'"
     ]
    }
   ],
   "source": [
    "from pyspark.sql import SparkSession\n",
    "spark = SparkSession.builder.getOrCreate()"
   ]
  },
  {
   "cell_type": "markdown",
   "metadata": {},
   "source": [
    "## pandas"
   ]
  },
  {
   "cell_type": "code",
   "execution_count": 49,
   "metadata": {},
   "outputs": [],
   "source": [
    "import pandas as pd"
   ]
  },
  {
   "cell_type": "markdown",
   "metadata": {},
   "source": [
    "## numpy"
   ]
  },
  {
   "cell_type": "code",
   "execution_count": 50,
   "metadata": {},
   "outputs": [],
   "source": [
    "import numpy as np"
   ]
  },
  {
   "cell_type": "markdown",
   "metadata": {},
   "source": [
    "## selenium"
   ]
  },
  {
   "cell_type": "code",
   "execution_count": 51,
   "metadata": {},
   "outputs": [],
   "source": [
    "import selenium"
   ]
  },
  {
   "cell_type": "markdown",
   "metadata": {},
   "source": [
    "## beautifulsoup4"
   ]
  },
  {
   "cell_type": "code",
   "execution_count": 53,
   "metadata": {},
   "outputs": [],
   "source": [
    "import bs4 as beautifulsoup4"
   ]
  },
  {
   "cell_type": "markdown",
   "metadata": {},
   "source": [
    "## chromedriver"
   ]
  },
  {
   "cell_type": "code",
   "execution_count": 54,
   "metadata": {},
   "outputs": [
    {
     "name": "stdout",
     "output_type": "stream",
     "text": [
      "/opt/homebrew/bin/chromedriver\r\n"
     ]
    }
   ],
   "source": [
    "! which chromedriver"
   ]
  },
  {
   "cell_type": "markdown",
   "metadata": {},
   "source": [
    "## docker"
   ]
  },
  {
   "cell_type": "code",
   "execution_count": 55,
   "metadata": {},
   "outputs": [
    {
     "name": "stdout",
     "output_type": "stream",
     "text": [
      "/usr/local/bin/docker\r\n"
     ]
    }
   ],
   "source": [
    "! which docker"
   ]
  },
  {
   "cell_type": "code",
   "execution_count": 56,
   "metadata": {},
   "outputs": [
    {
     "name": "stdout",
     "output_type": "stream",
     "text": [
      "Authenticating with existing credentials...\n",
      "Login Succeeded\n"
     ]
    }
   ],
   "source": [
    "! docker login"
   ]
  },
  {
   "cell_type": "markdown",
   "metadata": {},
   "source": [
    "## sql server edge"
   ]
  },
  {
   "cell_type": "markdown",
   "metadata": {},
   "source": [
    "### az-cli"
   ]
  },
  {
   "cell_type": "code",
   "execution_count": 57,
   "metadata": {},
   "outputs": [
    {
     "name": "stdout",
     "output_type": "stream",
     "text": [
      "/opt/homebrew/bin/az\r\n"
     ]
    }
   ],
   "source": [
    "! which az"
   ]
  },
  {
   "cell_type": "code",
   "execution_count": 59,
   "metadata": {},
   "outputs": [],
   "source": [
    "# ! az login\n",
    "\n",
    "# The default web browser has been opened at https://login.microsoftonline.com/common/oauth2/authorize. Please continue the login in the web browser. If no web browser is available or if the web browser fails to open, use device code flow with `az login --use-device-code`.\n",
    "# You have logged in. Now let us find all the subscriptions to which you have access...\n",
    "# [\n",
    "#   {\n",
    "#     \"cloudName\": \"AzureCloud\",\n",
    "#     \"homeTenantId\": \"ea80952e-a476-42d4-aaf4-5457852b0f7e\",\n",
    "#     \"id\": \"f55d4ef9-4d7f-4763-8661-9b82de6c08c9\",\n",
    "#     \"isDefault\": true,\n",
    "#     \"managedByTenants\": [\n",
    "#       {\n",
    "#         \"tenantId\": \"2f4a9838-26b7-47ee-be60-ccc1fdec5953\"\n",
    "#       }\n",
    "#     ],\n",
    "#     \"name\": \"zne-udl1-p-ust0-sbc\",\n",
    "#     \"state\": \"Enabled\",\n",
    "#     \"tenantId\": \"ea80952e-a476-42d4-aaf4-5457852b0f7e\",\n",
    "#     \"user\": {\n",
    "#       \"name\": \"Steven.Hurwitt@bp.com\",\n",
    "#       \"type\": \"user\"\n",
    "#     }\n",
    "#   },\n",
    "#   {\n",
    "#     \"cloudName\": \"AzureCloud\",\n",
    "#     \"homeTenantId\": \"ea80952e-a476-42d4-aaf4-5457852b0f7e\",\n",
    "#     \"id\": \"3dc3f829-f5db-4014-b75f-1718ffb337b2\",\n",
    "#     \"isDefault\": false,\n",
    "#     \"managedByTenants\": [\n",
    "#       {\n",
    "#         \"tenantId\": \"2f4a9838-26b7-47ee-be60-ccc1fdec5953\"\n",
    "#       }\n",
    "#     ],\n",
    "#     \"name\": \"zne-usw0-n-idm-sbc\",\n",
    "#     \"state\": \"Enabled\",\n",
    "#     \"tenantId\": \"ea80952e-a476-42d4-aaf4-5457852b0f7e\",\n",
    "#     \"user\": {\n",
    "#       \"name\": \"Steven.Hurwitt@bp.com\",\n",
    "#       \"type\": \"user\"\n",
    "#     }\n",
    "#   },\n",
    "#   {\n",
    "#     \"cloudName\": \"AzureCloud\",\n",
    "#     \"homeTenantId\": \"ea80952e-a476-42d4-aaf4-5457852b0f7e\",\n",
    "#     \"id\": \"ae3f2be6-92ad-4a3a-9f90-baf1e9b3562c\",\n",
    "#     \"isDefault\": false,\n",
    "#     \"managedByTenants\": [],\n",
    "#     \"name\": \"zsc-evcs-p-mswvd-sbc\",\n",
    "#     \"state\": \"Enabled\",\n",
    "#     \"tenantId\": \"ea80952e-a476-42d4-aaf4-5457852b0f7e\",\n",
    "#     \"user\": {\n",
    "#       \"name\": \"Steven.Hurwitt@bp.com\",\n",
    "#       \"type\": \"user\"\n",
    "#     }\n",
    "#   },\n",
    "#   {\n",
    "#     \"cloudName\": \"AzureCloud\",\n",
    "#     \"homeTenantId\": \"ea80952e-a476-42d4-aaf4-5457852b0f7e\",\n",
    "#     \"id\": \"6539e0ec-09d4-4b35-9bd0-d35dba747572\",\n",
    "#     \"isDefault\": false,\n",
    "#     \"managedByTenants\": [],\n",
    "#     \"name\": \"zsc-envd-p-ras-sbc\",\n",
    "#     \"state\": \"Enabled\",\n",
    "#     \"tenantId\": \"ea80952e-a476-42d4-aaf4-5457852b0f7e\",\n",
    "#     \"user\": {\n",
    "#       \"name\": \"Steven.Hurwitt@bp.com\",\n",
    "#       \"type\": \"user\"\n",
    "#     }\n",
    "#   },\n",
    "#   {\n",
    "#     \"cloudName\": \"AzureCloud\",\n",
    "#     \"homeTenantId\": \"ea80952e-a476-42d4-aaf4-5457852b0f7e\",\n",
    "#     \"id\": \"3a7b4fea-df52-4b37-92c1-3ed9aafac9fb\",\n",
    "#     \"isDefault\": false,\n",
    "#     \"managedByTenants\": [],\n",
    "#     \"name\": \"zne-envd-p-ras-sbc\",\n",
    "#     \"state\": \"Enabled\",\n",
    "#     \"tenantId\": \"ea80952e-a476-42d4-aaf4-5457852b0f7e\",\n",
    "#     \"user\": {\n",
    "#       \"name\": \"Steven.Hurwitt@bp.com\",\n",
    "#       \"type\": \"user\"\n",
    "#     }\n",
    "#   },\n",
    "#   {\n",
    "#     \"cloudName\": \"AzureCloud\",\n",
    "#     \"homeTenantId\": \"ea80952e-a476-42d4-aaf4-5457852b0f7e\",\n",
    "#     \"id\": \"b4c9bbf7-fef0-49e3-b326-1b80149ebe0c\",\n",
    "#     \"isDefault\": false,\n",
    "#     \"managedByTenants\": [],\n",
    "#     \"name\": \"zsa-edwp-p-apvcs-sbc\",\n",
    "#     \"state\": \"Enabled\",\n",
    "#     \"tenantId\": \"ea80952e-a476-42d4-aaf4-5457852b0f7e\",\n",
    "#     \"user\": {\n",
    "#       \"name\": \"Steven.Hurwitt@bp.com\",\n",
    "#       \"type\": \"user\"\n",
    "#     }\n",
    "#   },\n",
    "#   {\n",
    "#     \"cloudName\": \"AzureCloud\",\n",
    "#     \"homeTenantId\": \"ea80952e-a476-42d4-aaf4-5457852b0f7e\",\n",
    "#     \"id\": \"2b310ddf-3296-456b-92f8-5cfff2f8e8c2\",\n",
    "#     \"isDefault\": false,\n",
    "#     \"managedByTenants\": [],\n",
    "#     \"name\": \"zne-evcs-p-dwp-sbc\",\n",
    "#     \"state\": \"Enabled\",\n",
    "#     \"tenantId\": \"ea80952e-a476-42d4-aaf4-5457852b0f7e\",\n",
    "#     \"user\": {\n",
    "#       \"name\": \"Steven.Hurwitt@bp.com\",\n",
    "#       \"type\": \"user\"\n",
    "#     }\n",
    "#   },\n",
    "#   {\n",
    "#     \"cloudName\": \"AzureCloud\",\n",
    "#     \"homeTenantId\": \"ea80952e-a476-42d4-aaf4-5457852b0f7e\",\n",
    "#     \"id\": \"eb118bf0-7368-4d05-ba02-9cf31cb431f7\",\n",
    "#     \"isDefault\": false,\n",
    "#     \"managedByTenants\": [],\n",
    "#     \"name\": \"zne-ewpe-p-wndgms-sbc\",\n",
    "#     \"state\": \"Enabled\",\n",
    "#     \"tenantId\": \"ea80952e-a476-42d4-aaf4-5457852b0f7e\",\n",
    "#     \"user\": {\n",
    "#       \"name\": \"Steven.Hurwitt@bp.com\",\n",
    "#       \"type\": \"user\"\n",
    "#     }\n",
    "#   },\n",
    "#   {\n",
    "#     \"cloudName\": \"AzureCloud\",\n",
    "#     \"homeTenantId\": \"ea80952e-a476-42d4-aaf4-5457852b0f7e\",\n",
    "#     \"id\": \"1acbaf85-58aa-4f0a-a93b-9176a0f08bd3\",\n",
    "#     \"isDefault\": false,\n",
    "#     \"managedByTenants\": [],\n",
    "#     \"name\": \"zwe-ess1-sbc\",\n",
    "#     \"state\": \"Enabled\",\n",
    "#     \"tenantId\": \"ea80952e-a476-42d4-aaf4-5457852b0f7e\",\n",
    "#     \"user\": {\n",
    "#       \"name\": \"Steven.Hurwitt@bp.com\",\n",
    "#       \"type\": \"user\"\n",
    "#     }\n",
    "#   },\n",
    "#   {\n",
    "#     \"cloudName\": \"AzureCloud\",\n",
    "#     \"homeTenantId\": \"ea80952e-a476-42d4-aaf4-5457852b0f7e\",\n",
    "#     \"id\": \"7d5f9f0d-5f8a-4159-9fd5-42435ad8b764\",\n",
    "#     \"isDefault\": false,\n",
    "#     \"managedByTenants\": [],\n",
    "#     \"name\": \"zne-eds1-n-test-sbc\",\n",
    "#     \"state\": \"Enabled\",\n",
    "#     \"tenantId\": \"ea80952e-a476-42d4-aaf4-5457852b0f7e\",\n",
    "#     \"user\": {\n",
    "#       \"name\": \"Steven.Hurwitt@bp.com\",\n",
    "#       \"type\": \"user\"\n",
    "#     }\n",
    "#   },\n",
    "#   {\n",
    "#     \"cloudName\": \"AzureCloud\",\n",
    "#     \"homeTenantId\": \"ea80952e-a476-42d4-aaf4-5457852b0f7e\",\n",
    "#     \"id\": \"5c42403b-0ffd-4d5c-a477-b74227af91ac\",\n",
    "#     \"isDefault\": false,\n",
    "#     \"managedByTenants\": [],\n",
    "#     \"name\": \"znc-ess1-sbc\",\n",
    "#     \"state\": \"Enabled\",\n",
    "#     \"tenantId\": \"ea80952e-a476-42d4-aaf4-5457852b0f7e\",\n",
    "#     \"user\": {\n",
    "#       \"name\": \"Steven.Hurwitt@bp.com\",\n",
    "#       \"type\": \"user\"\n",
    "#     }\n",
    "#   },\n",
    "#   {\n",
    "#     \"cloudName\": \"AzureCloud\",\n",
    "#     \"homeTenantId\": \"ea80952e-a476-42d4-aaf4-5457852b0f7e\",\n",
    "#     \"id\": \"4fd3bb7a-ecde-46f0-89d8-124cd5a7b075\",\n",
    "#     \"isDefault\": false,\n",
    "#     \"managedByTenants\": [],\n",
    "#     \"name\": \"zne-ess1-sbc\",\n",
    "#     \"state\": \"Enabled\",\n",
    "#     \"tenantId\": \"ea80952e-a476-42d4-aaf4-5457852b0f7e\",\n",
    "#     \"user\": {\n",
    "#       \"name\": \"Steven.Hurwitt@bp.com\",\n",
    "#       \"type\": \"user\"\n",
    "#     }\n",
    "#   },\n",
    "#   {\n",
    "#     \"cloudName\": \"AzureCloud\",\n",
    "#     \"homeTenantId\": \"ea80952e-a476-42d4-aaf4-5457852b0f7e\",\n",
    "#     \"id\": \"719f5bc7-faa1-4724-95ac-d0153e84c8f5\",\n",
    "#     \"isDefault\": false,\n",
    "#     \"managedByTenants\": [],\n",
    "#     \"name\": \"zsc-ess1-sbc\",\n",
    "#     \"state\": \"Enabled\",\n",
    "#     \"tenantId\": \"ea80952e-a476-42d4-aaf4-5457852b0f7e\",\n",
    "#     \"user\": {\n",
    "#       \"name\": \"Steven.Hurwitt@bp.com\",\n",
    "#       \"type\": \"user\"\n",
    "#     }\n",
    "#   },\n",
    "#   {\n",
    "#     \"cloudName\": \"AzureCloud\",\n",
    "#     \"homeTenantId\": \"ea80952e-a476-42d4-aaf4-5457852b0f7e\",\n",
    "#     \"id\": \"26518870-f42b-4800-8f93-ce687f3bd9a4\",\n",
    "#     \"isDefault\": false,\n",
    "#     \"managedByTenants\": [\n",
    "#       {\n",
    "#         \"tenantId\": \"2f4a9838-26b7-47ee-be60-ccc1fdec5953\"\n",
    "#       }\n",
    "#     ],\n",
    "#     \"name\": \"zsc-udl0-n-ust0-sbc\",\n",
    "#     \"state\": \"Enabled\",\n",
    "#     \"tenantId\": \"ea80952e-a476-42d4-aaf4-5457852b0f7e\",\n",
    "#     \"user\": {\n",
    "#       \"name\": \"Steven.Hurwitt@bp.com\",\n",
    "#       \"type\": \"user\"\n",
    "#     }\n",
    "#   },\n",
    "#   {\n",
    "#     \"cloudName\": \"AzureCloud\",\n",
    "#     \"homeTenantId\": \"ea80952e-a476-42d4-aaf4-5457852b0f7e\",\n",
    "#     \"id\": \"0af2cfef-5d80-4171-ac37-2c2bded97551\",\n",
    "#     \"isDefault\": false,\n",
    "#     \"managedByTenants\": [\n",
    "#       {\n",
    "#         \"tenantId\": \"2f4a9838-26b7-47ee-be60-ccc1fdec5953\"\n",
    "#       }\n",
    "#     ],\n",
    "#     \"name\": \"zne-udl0-n-ust0-sbc\",\n",
    "#     \"state\": \"Enabled\",\n",
    "#     \"tenantId\": \"ea80952e-a476-42d4-aaf4-5457852b0f7e\",\n",
    "#     \"user\": {\n",
    "#       \"name\": \"Steven.Hurwitt@bp.com\",\n",
    "#       \"type\": \"user\"\n",
    "#     }\n",
    "#   },\n",
    "#   {\n",
    "#     \"cloudName\": \"AzureCloud\",\n",
    "#     \"homeTenantId\": \"ea80952e-a476-42d4-aaf4-5457852b0f7e\",\n",
    "#     \"id\": \"19a7a8f0-6b4f-460e-9df1-11784b01b6e8\",\n",
    "#     \"isDefault\": false,\n",
    "#     \"managedByTenants\": [],\n",
    "#     \"name\": \"zsa-ess1-p-sbc\",\n",
    "#     \"state\": \"Enabled\",\n",
    "#     \"tenantId\": \"ea80952e-a476-42d4-aaf4-5457852b0f7e\",\n",
    "#     \"user\": {\n",
    "#       \"name\": \"Steven.Hurwitt@bp.com\",\n",
    "#       \"type\": \"user\"\n",
    "#     }\n",
    "#   }\n",
    "# ]"
   ]
  },
  {
   "cell_type": "markdown",
   "metadata": {},
   "source": [
    "### docker container"
   ]
  },
  {
   "cell_type": "code",
   "execution_count": 60,
   "metadata": {},
   "outputs": [
    {
     "name": "stdout",
     "output_type": "stream",
     "text": [
      "Using default tag: latest\n",
      "latest: Pulling from azure-sql-edge\n",
      "Digest: sha256:209a502ac7d35a8e9d5ae777bca874930950a6bf0ec4915acf23390321c576e9\n",
      "Status: Image is up to date for mcr.microsoft.com/azure-sql-edge:latest\n",
      "mcr.microsoft.com/azure-sql-edge:latest\n"
     ]
    }
   ],
   "source": [
    "! docker pull mcr.microsoft.com/azure-sql-edge"
   ]
  },
  {
   "cell_type": "markdown",
   "metadata": {},
   "source": [
    "### run docker"
   ]
  },
  {
   "cell_type": "code",
   "execution_count": 63,
   "metadata": {},
   "outputs": [
    {
     "name": "stdout",
     "output_type": "stream",
     "text": [
      "/opt/mssql/bin/permissions_check.sh: line 68: exec: --: invalid option\r\n",
      "exec: usage: exec [-cl] [-a name] [command [arguments ...]] [redirection ...]\r\n",
      "Azure SQL Edge will run as non-root by default.\r\n",
      "This container is running as user mssql.\r\n",
      "To learn more visit https://go.microsoft.com/fwlink/?linkid=2140520.\r\n"
     ]
    }
   ],
   "source": [
    "! docker run mcr.microsoft.com/azure-sql-edge:latest --accept-eula -y"
   ]
  },
  {
   "cell_type": "markdown",
   "metadata": {},
   "source": [
    "## python version"
   ]
  },
  {
   "cell_type": "code",
   "execution_count": 70,
   "metadata": {},
   "outputs": [
    {
     "name": "stdout",
     "output_type": "stream",
     "text": [
      "Python 3.8.11\n",
      "pip 21.2.2 from /Users/stevenhurwitt/miniforge3/envs/dealersocket/lib/python3.8/site-packages/pip (python 3.8)\n"
     ]
    }
   ],
   "source": [
    "! python --version\n",
    "! pip --version"
   ]
  },
  {
   "cell_type": "markdown",
   "metadata": {},
   "source": [
    "## alias"
   ]
  },
  {
   "cell_type": "code",
   "execution_count": 76,
   "metadata": {},
   "outputs": [
    {
     "name": "stdout",
     "output_type": "stream",
     "text": [
      "set aliases.\n"
     ]
    }
   ],
   "source": [
    "! alias python=python3.7\n",
    "! alias pip=\"python3.7 -m pip\"\n",
    "print(\"set aliases.\")"
   ]
  },
  {
   "cell_type": "markdown",
   "metadata": {},
   "source": [
    "## dependencies"
   ]
  },
  {
   "cell_type": "markdown",
   "metadata": {},
   "source": [
    "#### python3.7"
   ]
  },
  {
   "cell_type": "code",
   "execution_count": 78,
   "metadata": {},
   "outputs": [
    {
     "name": "stdout",
     "output_type": "stream",
     "text": [
      "Python 3.7.10 (77787b8f4c49, May 19 2021, 05:28:43)\r\n",
      "[PyPy 7.3.5 with GCC Apple LLVM 12.0.5 (clang-1205.0.22.9)]\r\n"
     ]
    }
   ],
   "source": [
    "! python3.7 --version"
   ]
  },
  {
   "cell_type": "markdown",
   "metadata": {},
   "source": [
    "#### pip3.7"
   ]
  },
  {
   "cell_type": "code",
   "execution_count": 79,
   "metadata": {},
   "outputs": [
    {
     "name": "stdout",
     "output_type": "stream",
     "text": [
      "pip 21.2.4 from /Users/stevenhurwitt/.pyenv/versions/pypy3.7-7.3.5/site-packages/pip (python 3.7)\r\n"
     ]
    }
   ],
   "source": [
    "! python3.7 -m pip --version"
   ]
  },
  {
   "cell_type": "markdown",
   "metadata": {},
   "source": [
    "#### java1.8"
   ]
  },
  {
   "cell_type": "code",
   "execution_count": 81,
   "metadata": {},
   "outputs": [
    {
     "name": "stdout",
     "output_type": "stream",
     "text": [
      "openjdk version \"1.8.0_302\"\n",
      "OpenJDK Runtime Environment (Zulu 8.56.0.23-CA-macos-aarch64) (build 1.8.0_302-b08)\n",
      "OpenJDK 64-Bit Server VM (Zulu 8.56.0.23-CA-macos-aarch64) (build 25.302-b08, mixed mode)\n"
     ]
    }
   ],
   "source": [
    "! java -version"
   ]
  },
  {
   "cell_type": "markdown",
   "metadata": {},
   "source": [
    "#### scala2.13"
   ]
  },
  {
   "cell_type": "code",
   "execution_count": 82,
   "metadata": {},
   "outputs": [
    {
     "name": "stdout",
     "output_type": "stream",
     "text": [
      "Scala code runner version 2.13.6 -- Copyright 2002-2021, LAMP/EPFL and Lightbend, Inc.\r\n"
     ]
    }
   ],
   "source": [
    "! scala -version"
   ]
  },
  {
   "cell_type": "markdown",
   "metadata": {},
   "source": [
    "## conda"
   ]
  },
  {
   "cell_type": "code",
   "execution_count": 80,
   "metadata": {},
   "outputs": [
    {
     "name": "stdout",
     "output_type": "stream",
     "text": [
      "# conda environments:\r\n",
      "#\r\n",
      "                         /Users/stevenhurwitt/mambaforge\r\n",
      "                         /Users/stevenhurwitt/mambaforge/envs/miniforge\r\n",
      "                         /Users/stevenhurwitt/mambaforge/envs/reddit\r\n",
      "base                     /Users/stevenhurwitt/miniforge3\r\n",
      "dbt                      /Users/stevenhurwitt/miniforge3/envs/dbt\r\n",
      "dbx-p40                  /Users/stevenhurwitt/miniforge3/envs/dbx-p40\r\n",
      "dbx-p58                  /Users/stevenhurwitt/miniforge3/envs/dbx-p58\r\n",
      "dealersocket          *  /Users/stevenhurwitt/miniforge3/envs/dealersocket\r\n",
      "flask                    /Users/stevenhurwitt/miniforge3/envs/flask\r\n",
      "kafka                    /Users/stevenhurwitt/miniforge3/envs/kafka\r\n",
      "reddit                   /Users/stevenhurwitt/miniforge3/envs/reddit\r\n",
      "speedtest                /Users/stevenhurwitt/miniforge3/envs/speedtest\r\n",
      "                         /opt/homebrew/Caskroom/miniconda/base\r\n",
      "                         /opt/homebrew/anaconda3\r\n",
      "\r\n"
     ]
    }
   ],
   "source": [
    "! conda env list"
   ]
  },
  {
   "cell_type": "code",
   "execution_count": 87,
   "metadata": {},
   "outputs": [
    {
     "name": "stdout",
     "output_type": "stream",
     "text": [
      "no change     /Users/stevenhurwitt/miniforge3/condabin/conda\r\n",
      "no change     /Users/stevenhurwitt/miniforge3/bin/conda\r\n",
      "no change     /Users/stevenhurwitt/miniforge3/bin/conda-env\r\n",
      "no change     /Users/stevenhurwitt/miniforge3/bin/activate\r\n",
      "no change     /Users/stevenhurwitt/miniforge3/bin/deactivate\r\n",
      "no change     /Users/stevenhurwitt/miniforge3/etc/profile.d/conda.sh\r\n",
      "no change     /Users/stevenhurwitt/miniforge3/etc/fish/conf.d/conda.fish\r\n",
      "no change     /Users/stevenhurwitt/miniforge3/shell/condabin/Conda.psm1\r\n",
      "no change     /Users/stevenhurwitt/miniforge3/shell/condabin/conda-hook.ps1\r\n",
      "no change     /Users/stevenhurwitt/miniforge3/lib/python3.9/site-packages/xontrib/conda.xsh\r\n",
      "no change     /Users/stevenhurwitt/miniforge3/etc/profile.d/conda.csh\r\n",
      "no change     /Users/stevenhurwitt/.zshrc\r\n",
      "No action taken.\r\n"
     ]
    }
   ],
   "source": [
    "! conda init zsh"
   ]
  },
  {
   "cell_type": "code",
   "execution_count": 88,
   "metadata": {},
   "outputs": [],
   "source": [
    "! source ~/.zshrc"
   ]
  },
  {
   "cell_type": "code",
   "execution_count": 90,
   "metadata": {},
   "outputs": [],
   "source": [
    "# ! conda activate dbx-p40"
   ]
  },
  {
   "cell_type": "markdown",
   "metadata": {},
   "source": [
    "## directory"
   ]
  },
  {
   "cell_type": "code",
   "execution_count": 91,
   "metadata": {},
   "outputs": [],
   "source": [
    "base = os.getcwd()"
   ]
  },
  {
   "cell_type": "code",
   "execution_count": 92,
   "metadata": {},
   "outputs": [
    {
     "name": "stdout",
     "output_type": "stream",
     "text": [
      "/Users/stevenhurwitt/Documents/dealersocket-speedtest\n"
     ]
    }
   ],
   "source": [
    "print(base)"
   ]
  },
  {
   "cell_type": "code",
   "execution_count": 93,
   "metadata": {},
   "outputs": [
    {
     "name": "stdout",
     "output_type": "stream",
     "text": [
      "\u001b[34mIDR_Drop\u001b[m\u001b[m     LICENSE      README.md    \u001b[34mdealersocket\u001b[m\u001b[m\r\n"
     ]
    }
   ],
   "source": [
    "! ls"
   ]
  },
  {
   "cell_type": "code",
   "execution_count": 105,
   "metadata": {},
   "outputs": [],
   "source": [
    "# ! source ./dealersocker/bin/activate"
   ]
  },
  {
   "cell_type": "markdown",
   "metadata": {},
   "source": [
    "## python virtualenv"
   ]
  },
  {
   "cell_type": "code",
   "execution_count": 103,
   "metadata": {},
   "outputs": [],
   "source": [
    "! source ./bin/activate"
   ]
  },
  {
   "cell_type": "code",
   "execution_count": 104,
   "metadata": {},
   "outputs": [
    {
     "name": "stdout",
     "output_type": "stream",
     "text": [
      "Python 3.7.10 (77787b8f4c49, May 19 2021, 05:28:43)\r\n",
      "[PyPy 7.3.5 with GCC Apple LLVM 12.0.5 (clang-1205.0.22.9)]\r\n"
     ]
    }
   ],
   "source": [
    "! python3.7 --version"
   ]
  },
  {
   "cell_type": "code",
   "execution_count": 106,
   "metadata": {},
   "outputs": [
    {
     "name": "stdout",
     "output_type": "stream",
     "text": [
      "\u001b[34mbin\u001b[m\u001b[m           \u001b[34mlib\u001b[m\u001b[m           pyvenv.cfg    \u001b[34msite-packages\u001b[m\u001b[m\r\n"
     ]
    }
   ],
   "source": [
    "! ls"
   ]
  },
  {
   "cell_type": "code",
   "execution_count": 107,
   "metadata": {},
   "outputs": [
    {
     "name": "stdout",
     "output_type": "stream",
     "text": [
      "/Users/stevenhurwitt/Documents/dealersocket-speedtest\n"
     ]
    }
   ],
   "source": [
    "cd ../"
   ]
  },
  {
   "cell_type": "code",
   "execution_count": 108,
   "metadata": {},
   "outputs": [
    {
     "name": "stdout",
     "output_type": "stream",
     "text": [
      "\u001b[34mIDR_Drop\u001b[m\u001b[m     LICENSE      README.md    \u001b[34mdealersocket\u001b[m\u001b[m\r\n"
     ]
    }
   ],
   "source": [
    "! ls"
   ]
  },
  {
   "cell_type": "markdown",
   "metadata": {},
   "source": [
    "## pip"
   ]
  },
  {
   "cell_type": "code",
   "execution_count": 109,
   "metadata": {},
   "outputs": [
    {
     "name": "stdout",
     "output_type": "stream",
     "text": [
      "pip 21.2.2 from /Users/stevenhurwitt/miniforge3/envs/dealersocket/lib/python3.8/site-packages/pip (python 3.8)\r\n"
     ]
    }
   ],
   "source": [
    "! pip --version"
   ]
  },
  {
   "cell_type": "code",
   "execution_count": 110,
   "metadata": {},
   "outputs": [
    {
     "name": "stdout",
     "output_type": "stream",
     "text": [
      "Requirement already satisfied: jupyter in /Users/stevenhurwitt/miniforge3/envs/dealersocket/lib/python3.8/site-packages (1.0.0)\n",
      "Requirement already satisfied: nbconvert in /Users/stevenhurwitt/miniforge3/envs/dealersocket/lib/python3.8/site-packages (from jupyter) (6.1.0)\n",
      "Requirement already satisfied: ipykernel in /Users/stevenhurwitt/miniforge3/envs/dealersocket/lib/python3.8/site-packages (from jupyter) (6.2.0)\n",
      "Collecting qtconsole\n",
      "  Using cached qtconsole-5.1.1-py3-none-any.whl (119 kB)\n",
      "Requirement already satisfied: notebook in /Users/stevenhurwitt/miniforge3/envs/dealersocket/lib/python3.8/site-packages (from jupyter) (6.4.3)\n",
      "Requirement already satisfied: jupyter-console in /Users/stevenhurwitt/miniforge3/envs/dealersocket/lib/python3.8/site-packages (from jupyter) (6.4.0)\n",
      "Requirement already satisfied: ipywidgets in /Users/stevenhurwitt/miniforge3/envs/dealersocket/lib/python3.8/site-packages (from jupyter) (7.6.3)\n",
      "Requirement already satisfied: matplotlib-inline<0.2.0,>=0.1.0 in /Users/stevenhurwitt/miniforge3/envs/dealersocket/lib/python3.8/site-packages (from ipykernel->jupyter) (0.1.2)\n",
      "Requirement already satisfied: debugpy<2.0,>=1.0.0 in /Users/stevenhurwitt/miniforge3/envs/dealersocket/lib/python3.8/site-packages (from ipykernel->jupyter) (1.4.1)\n",
      "Requirement already satisfied: jupyter-client<8.0 in /Users/stevenhurwitt/miniforge3/envs/dealersocket/lib/python3.8/site-packages (from ipykernel->jupyter) (7.0.1)\n",
      "Requirement already satisfied: tornado<7.0,>=4.2 in /Users/stevenhurwitt/miniforge3/envs/dealersocket/lib/python3.8/site-packages (from ipykernel->jupyter) (6.1)\n",
      "Requirement already satisfied: traitlets<6.0,>=4.1.0 in /Users/stevenhurwitt/miniforge3/envs/dealersocket/lib/python3.8/site-packages (from ipykernel->jupyter) (5.0.5)\n",
      "Requirement already satisfied: appnope in /Users/stevenhurwitt/miniforge3/envs/dealersocket/lib/python3.8/site-packages (from ipykernel->jupyter) (0.1.2)\n",
      "Requirement already satisfied: ipython<8.0,>=7.23.1 in /Users/stevenhurwitt/miniforge3/envs/dealersocket/lib/python3.8/site-packages (from ipykernel->jupyter) (7.27.0)\n",
      "Requirement already satisfied: prompt-toolkit!=3.0.0,!=3.0.1,<3.1.0,>=2.0.0 in /Users/stevenhurwitt/miniforge3/envs/dealersocket/lib/python3.8/site-packages (from ipython<8.0,>=7.23.1->ipykernel->jupyter) (3.0.20)\n",
      "Requirement already satisfied: backcall in /Users/stevenhurwitt/miniforge3/envs/dealersocket/lib/python3.8/site-packages (from ipython<8.0,>=7.23.1->ipykernel->jupyter) (0.2.0)\n",
      "Requirement already satisfied: pexpect>4.3 in /Users/stevenhurwitt/miniforge3/envs/dealersocket/lib/python3.8/site-packages (from ipython<8.0,>=7.23.1->ipykernel->jupyter) (4.8.0)\n",
      "Requirement already satisfied: decorator in /Users/stevenhurwitt/miniforge3/envs/dealersocket/lib/python3.8/site-packages (from ipython<8.0,>=7.23.1->ipykernel->jupyter) (5.0.9)\n",
      "Requirement already satisfied: jedi>=0.16 in /Users/stevenhurwitt/miniforge3/envs/dealersocket/lib/python3.8/site-packages (from ipython<8.0,>=7.23.1->ipykernel->jupyter) (0.18.0)\n",
      "Requirement already satisfied: pygments in /Users/stevenhurwitt/miniforge3/envs/dealersocket/lib/python3.8/site-packages (from ipython<8.0,>=7.23.1->ipykernel->jupyter) (2.10.0)\n",
      "Requirement already satisfied: setuptools>=18.5 in /Users/stevenhurwitt/miniforge3/envs/dealersocket/lib/python3.8/site-packages (from ipython<8.0,>=7.23.1->ipykernel->jupyter) (57.4.0)\n",
      "Requirement already satisfied: pickleshare in /Users/stevenhurwitt/miniforge3/envs/dealersocket/lib/python3.8/site-packages (from ipython<8.0,>=7.23.1->ipykernel->jupyter) (0.7.5)\n",
      "Requirement already satisfied: parso<0.9.0,>=0.8.0 in /Users/stevenhurwitt/miniforge3/envs/dealersocket/lib/python3.8/site-packages (from jedi>=0.16->ipython<8.0,>=7.23.1->ipykernel->jupyter) (0.8.2)\n",
      "Requirement already satisfied: jupyter-core>=4.6.0 in /Users/stevenhurwitt/miniforge3/envs/dealersocket/lib/python3.8/site-packages (from jupyter-client<8.0->ipykernel->jupyter) (4.7.1)\n",
      "Requirement already satisfied: pyzmq>=13 in /Users/stevenhurwitt/miniforge3/envs/dealersocket/lib/python3.8/site-packages (from jupyter-client<8.0->ipykernel->jupyter) (22.2.1)\n",
      "Requirement already satisfied: python-dateutil>=2.1 in /Users/stevenhurwitt/miniforge3/envs/dealersocket/lib/python3.8/site-packages (from jupyter-client<8.0->ipykernel->jupyter) (2.8.2)\n",
      "Requirement already satisfied: entrypoints in /Users/stevenhurwitt/miniforge3/envs/dealersocket/lib/python3.8/site-packages (from jupyter-client<8.0->ipykernel->jupyter) (0.3)\n",
      "Requirement already satisfied: nest-asyncio>=1.5 in /Users/stevenhurwitt/miniforge3/envs/dealersocket/lib/python3.8/site-packages (from jupyter-client<8.0->ipykernel->jupyter) (1.5.1)\n",
      "Requirement already satisfied: ptyprocess>=0.5 in /Users/stevenhurwitt/miniforge3/envs/dealersocket/lib/python3.8/site-packages (from pexpect>4.3->ipython<8.0,>=7.23.1->ipykernel->jupyter) (0.7.0)\n",
      "Requirement already satisfied: wcwidth in /Users/stevenhurwitt/miniforge3/envs/dealersocket/lib/python3.8/site-packages (from prompt-toolkit!=3.0.0,!=3.0.1,<3.1.0,>=2.0.0->ipython<8.0,>=7.23.1->ipykernel->jupyter) (0.2.5)\n",
      "Requirement already satisfied: six>=1.5 in /Users/stevenhurwitt/miniforge3/envs/dealersocket/lib/python3.8/site-packages (from python-dateutil>=2.1->jupyter-client<8.0->ipykernel->jupyter) (1.16.0)\n",
      "Requirement already satisfied: ipython-genutils in /Users/stevenhurwitt/miniforge3/envs/dealersocket/lib/python3.8/site-packages (from traitlets<6.0,>=4.1.0->ipykernel->jupyter) (0.2.0)\n",
      "Requirement already satisfied: widgetsnbextension~=3.5.0 in /Users/stevenhurwitt/miniforge3/envs/dealersocket/lib/python3.8/site-packages (from ipywidgets->jupyter) (3.5.1)\n",
      "Requirement already satisfied: jupyterlab-widgets>=1.0.0 in /Users/stevenhurwitt/miniforge3/envs/dealersocket/lib/python3.8/site-packages (from ipywidgets->jupyter) (1.0.0)\n",
      "Requirement already satisfied: nbformat>=4.2.0 in /Users/stevenhurwitt/miniforge3/envs/dealersocket/lib/python3.8/site-packages (from ipywidgets->jupyter) (5.1.3)\n",
      "Requirement already satisfied: jsonschema!=2.5.0,>=2.4 in /Users/stevenhurwitt/miniforge3/envs/dealersocket/lib/python3.8/site-packages (from nbformat>=4.2.0->ipywidgets->jupyter) (3.2.0)\n",
      "Requirement already satisfied: attrs>=17.4.0 in /Users/stevenhurwitt/miniforge3/envs/dealersocket/lib/python3.8/site-packages (from jsonschema!=2.5.0,>=2.4->nbformat>=4.2.0->ipywidgets->jupyter) (21.2.0)\n",
      "Requirement already satisfied: pyrsistent>=0.14.0 in /Users/stevenhurwitt/miniforge3/envs/dealersocket/lib/python3.8/site-packages (from jsonschema!=2.5.0,>=2.4->nbformat>=4.2.0->ipywidgets->jupyter) (0.17.3)\n",
      "Requirement already satisfied: Send2Trash>=1.5.0 in /Users/stevenhurwitt/miniforge3/envs/dealersocket/lib/python3.8/site-packages (from notebook->jupyter) (1.8.0)\n",
      "Requirement already satisfied: terminado>=0.8.3 in /Users/stevenhurwitt/miniforge3/envs/dealersocket/lib/python3.8/site-packages (from notebook->jupyter) (0.11.1)\n",
      "Requirement already satisfied: jinja2 in /Users/stevenhurwitt/miniforge3/envs/dealersocket/lib/python3.8/site-packages (from notebook->jupyter) (3.0.1)\n",
      "Requirement already satisfied: prometheus-client in /Users/stevenhurwitt/miniforge3/envs/dealersocket/lib/python3.8/site-packages (from notebook->jupyter) (0.11.0)\n",
      "Requirement already satisfied: argon2-cffi in /Users/stevenhurwitt/miniforge3/envs/dealersocket/lib/python3.8/site-packages (from notebook->jupyter) (20.1.0)\n",
      "Requirement already satisfied: cffi>=1.0.0 in /Users/stevenhurwitt/miniforge3/envs/dealersocket/lib/python3.8/site-packages (from argon2-cffi->notebook->jupyter) (1.14.6)\n",
      "Requirement already satisfied: pycparser in /Users/stevenhurwitt/miniforge3/envs/dealersocket/lib/python3.8/site-packages (from cffi>=1.0.0->argon2-cffi->notebook->jupyter) (2.20)\n",
      "Requirement already satisfied: MarkupSafe>=2.0 in /Users/stevenhurwitt/miniforge3/envs/dealersocket/lib/python3.8/site-packages (from jinja2->notebook->jupyter) (2.0.1)\n",
      "Requirement already satisfied: jupyterlab-pygments in /Users/stevenhurwitt/miniforge3/envs/dealersocket/lib/python3.8/site-packages (from nbconvert->jupyter) (0.1.2)\n",
      "Requirement already satisfied: mistune<2,>=0.8.1 in /Users/stevenhurwitt/miniforge3/envs/dealersocket/lib/python3.8/site-packages (from nbconvert->jupyter) (0.8.4)\n",
      "Requirement already satisfied: bleach in /Users/stevenhurwitt/miniforge3/envs/dealersocket/lib/python3.8/site-packages (from nbconvert->jupyter) (4.1.0)\n",
      "Requirement already satisfied: testpath in /Users/stevenhurwitt/miniforge3/envs/dealersocket/lib/python3.8/site-packages (from nbconvert->jupyter) (0.5.0)\n",
      "Requirement already satisfied: nbclient<0.6.0,>=0.5.0 in /Users/stevenhurwitt/miniforge3/envs/dealersocket/lib/python3.8/site-packages (from nbconvert->jupyter) (0.5.4)\n",
      "Requirement already satisfied: pandocfilters>=1.4.1 in /Users/stevenhurwitt/miniforge3/envs/dealersocket/lib/python3.8/site-packages (from nbconvert->jupyter) (1.4.2)\n",
      "Requirement already satisfied: defusedxml in /Users/stevenhurwitt/miniforge3/envs/dealersocket/lib/python3.8/site-packages (from nbconvert->jupyter) (0.7.1)\n",
      "Requirement already satisfied: packaging in /Users/stevenhurwitt/miniforge3/envs/dealersocket/lib/python3.8/site-packages (from bleach->nbconvert->jupyter) (21.0)\n"
     ]
    },
    {
     "name": "stdout",
     "output_type": "stream",
     "text": [
      "Requirement already satisfied: webencodings in /Users/stevenhurwitt/miniforge3/envs/dealersocket/lib/python3.8/site-packages (from bleach->nbconvert->jupyter) (0.5.1)\n",
      "Requirement already satisfied: pyparsing>=2.0.2 in /Users/stevenhurwitt/miniforge3/envs/dealersocket/lib/python3.8/site-packages (from packaging->bleach->nbconvert->jupyter) (2.4.7)\n",
      "Collecting qtpy\n",
      "  Using cached QtPy-1.10.0-py2.py3-none-any.whl (54 kB)\n",
      "Installing collected packages: qtpy, qtconsole\n",
      "Successfully installed qtconsole-5.1.1 qtpy-1.10.0\n"
     ]
    }
   ],
   "source": [
    "! pip install jupyter"
   ]
  },
  {
   "cell_type": "code",
   "execution_count": 111,
   "metadata": {},
   "outputs": [
    {
     "name": "stdout",
     "output_type": "stream",
     "text": [
      "Requirement already satisfied: pandas in /Users/stevenhurwitt/miniforge3/envs/dealersocket/lib/python3.8/site-packages (1.3.2)\r\n",
      "Requirement already satisfied: numpy>=1.17.3 in /Users/stevenhurwitt/miniforge3/envs/dealersocket/lib/python3.8/site-packages (from pandas) (1.21.2)\r\n",
      "Requirement already satisfied: python-dateutil>=2.7.3 in /Users/stevenhurwitt/miniforge3/envs/dealersocket/lib/python3.8/site-packages (from pandas) (2.8.2)\r\n",
      "Requirement already satisfied: pytz>=2017.3 in /Users/stevenhurwitt/miniforge3/envs/dealersocket/lib/python3.8/site-packages (from pandas) (2021.1)\r\n",
      "Requirement already satisfied: six>=1.5 in /Users/stevenhurwitt/miniforge3/envs/dealersocket/lib/python3.8/site-packages (from python-dateutil>=2.7.3->pandas) (1.16.0)\r\n"
     ]
    }
   ],
   "source": [
    "! pip install pandas"
   ]
  },
  {
   "cell_type": "code",
   "execution_count": 112,
   "metadata": {},
   "outputs": [
    {
     "name": "stdout",
     "output_type": "stream",
     "text": [
      "Requirement already satisfied: requests in /Users/stevenhurwitt/miniforge3/envs/dealersocket/lib/python3.8/site-packages (2.26.0)\r\n",
      "Requirement already satisfied: requests-oauthlib in /Users/stevenhurwitt/miniforge3/envs/dealersocket/lib/python3.8/site-packages (1.3.0)\r\n",
      "Requirement already satisfied: urllib3<1.27,>=1.21.1 in /Users/stevenhurwitt/miniforge3/envs/dealersocket/lib/python3.8/site-packages (from requests) (1.26.6)\r\n",
      "Requirement already satisfied: idna<4,>=2.5 in /Users/stevenhurwitt/miniforge3/envs/dealersocket/lib/python3.8/site-packages (from requests) (3.1)\r\n",
      "Requirement already satisfied: certifi>=2017.4.17 in /Users/stevenhurwitt/miniforge3/envs/dealersocket/lib/python3.8/site-packages (from requests) (2021.5.30)\r\n",
      "Requirement already satisfied: charset-normalizer~=2.0.0 in /Users/stevenhurwitt/miniforge3/envs/dealersocket/lib/python3.8/site-packages (from requests) (2.0.0)\r\n",
      "Requirement already satisfied: oauthlib>=3.0.0 in /Users/stevenhurwitt/miniforge3/envs/dealersocket/lib/python3.8/site-packages (from requests-oauthlib) (3.1.1)\r\n"
     ]
    }
   ],
   "source": [
    "! pip install requests requests-oauthlib"
   ]
  },
  {
   "cell_type": "code",
   "execution_count": 113,
   "metadata": {},
   "outputs": [
    {
     "name": "stdout",
     "output_type": "stream",
     "text": [
      "Collecting pyodbc\n",
      "  Using cached pyodbc-4.0.32.tar.gz (280 kB)\n",
      "Building wheels for collected packages: pyodbc\n",
      "  Building wheel for pyodbc (setup.py) ... \u001b[?25lerror\n",
      "\u001b[31m  ERROR: Command errored out with exit status 1:\n",
      "   command: /Users/stevenhurwitt/miniforge3/envs/dealersocket/bin/python -u -c 'import io, os, sys, setuptools, tokenize; sys.argv[0] = '\"'\"'/private/var/folders/bx/9_vlv5nn2_59z73ygpc6z_0m0000gn/T/pip-install-k80mqyxs/pyodbc_f034a809f1de4ae3990c12649d6d4fea/setup.py'\"'\"'; __file__='\"'\"'/private/var/folders/bx/9_vlv5nn2_59z73ygpc6z_0m0000gn/T/pip-install-k80mqyxs/pyodbc_f034a809f1de4ae3990c12649d6d4fea/setup.py'\"'\"';f = getattr(tokenize, '\"'\"'open'\"'\"', open)(__file__) if os.path.exists(__file__) else io.StringIO('\"'\"'from setuptools import setup; setup()'\"'\"');code = f.read().replace('\"'\"'\\r\\n'\"'\"', '\"'\"'\\n'\"'\"');f.close();exec(compile(code, __file__, '\"'\"'exec'\"'\"'))' bdist_wheel -d /private/var/folders/bx/9_vlv5nn2_59z73ygpc6z_0m0000gn/T/pip-wheel-f35qn4p2\n",
      "       cwd: /private/var/folders/bx/9_vlv5nn2_59z73ygpc6z_0m0000gn/T/pip-install-k80mqyxs/pyodbc_f034a809f1de4ae3990c12649d6d4fea/\n",
      "  Complete output (14 lines):\n",
      "  running bdist_wheel\n",
      "  running build\n",
      "  running build_ext\n",
      "  building 'pyodbc' extension\n",
      "  creating build\n",
      "  creating build/temp.macosx-11.1-arm64-3.8\n",
      "  creating build/temp.macosx-11.1-arm64-3.8/src\n",
      "  gcc -Wno-unused-result -Wsign-compare -Wunreachable-code -DNDEBUG -g -fwrapv -O3 -Wall -Wstrict-prototypes -I/Users/stevenhurwitt/miniforge3/envs/dealersocket/include -arch arm64 -I/Users/stevenhurwitt/miniforge3/envs/dealersocket/include -arch arm64 -DPYODBC_VERSION=4.0.32 -UMAC_OS_X_VERSION_10_7 -I/usr/local/include -I/Users/stevenhurwitt/miniforge3/envs/dealersocket/include/python3.8 -c src/buffer.cpp -o build/temp.macosx-11.1-arm64-3.8/src/buffer.o -Wno-write-strings -Wno-deprecated-declarations\n",
      "  In file included from src/buffer.cpp:12:\n",
      "  src/pyodbc.h:56:10: fatal error: 'sql.h' file not found\n",
      "  #include <sql.h>\n",
      "           ^~~~~~~\n",
      "  1 error generated.\n",
      "  error: command 'gcc' failed with exit status 1\n",
      "  ----------------------------------------\u001b[0m\n",
      "\u001b[31m  ERROR: Failed building wheel for pyodbc\u001b[0m\n",
      "\u001b[?25h  Running setup.py clean for pyodbc\n",
      "Failed to build pyodbc\n",
      "Installing collected packages: pyodbc\n",
      "    Running setup.py install for pyodbc ... \u001b[?25lerror\n",
      "\u001b[31m    ERROR: Command errored out with exit status 1:\n",
      "     command: /Users/stevenhurwitt/miniforge3/envs/dealersocket/bin/python -u -c 'import io, os, sys, setuptools, tokenize; sys.argv[0] = '\"'\"'/private/var/folders/bx/9_vlv5nn2_59z73ygpc6z_0m0000gn/T/pip-install-k80mqyxs/pyodbc_f034a809f1de4ae3990c12649d6d4fea/setup.py'\"'\"'; __file__='\"'\"'/private/var/folders/bx/9_vlv5nn2_59z73ygpc6z_0m0000gn/T/pip-install-k80mqyxs/pyodbc_f034a809f1de4ae3990c12649d6d4fea/setup.py'\"'\"';f = getattr(tokenize, '\"'\"'open'\"'\"', open)(__file__) if os.path.exists(__file__) else io.StringIO('\"'\"'from setuptools import setup; setup()'\"'\"');code = f.read().replace('\"'\"'\\r\\n'\"'\"', '\"'\"'\\n'\"'\"');f.close();exec(compile(code, __file__, '\"'\"'exec'\"'\"'))' install --record /private/var/folders/bx/9_vlv5nn2_59z73ygpc6z_0m0000gn/T/pip-record-w0fh6qvn/install-record.txt --single-version-externally-managed --compile --install-headers /Users/stevenhurwitt/miniforge3/envs/dealersocket/include/python3.8/pyodbc\n",
      "         cwd: /private/var/folders/bx/9_vlv5nn2_59z73ygpc6z_0m0000gn/T/pip-install-k80mqyxs/pyodbc_f034a809f1de4ae3990c12649d6d4fea/\n",
      "    Complete output (14 lines):\n",
      "    running install\n",
      "    running build\n",
      "    running build_ext\n",
      "    building 'pyodbc' extension\n",
      "    creating build\n",
      "    creating build/temp.macosx-11.1-arm64-3.8\n",
      "    creating build/temp.macosx-11.1-arm64-3.8/src\n",
      "    gcc -Wno-unused-result -Wsign-compare -Wunreachable-code -DNDEBUG -g -fwrapv -O3 -Wall -Wstrict-prototypes -I/Users/stevenhurwitt/miniforge3/envs/dealersocket/include -arch arm64 -I/Users/stevenhurwitt/miniforge3/envs/dealersocket/include -arch arm64 -DPYODBC_VERSION=4.0.32 -UMAC_OS_X_VERSION_10_7 -I/usr/local/include -I/Users/stevenhurwitt/miniforge3/envs/dealersocket/include/python3.8 -c src/buffer.cpp -o build/temp.macosx-11.1-arm64-3.8/src/buffer.o -Wno-write-strings -Wno-deprecated-declarations\n",
      "    In file included from src/buffer.cpp:12:\n",
      "    src/pyodbc.h:56:10: fatal error: 'sql.h' file not found\n",
      "    #include <sql.h>\n",
      "             ^~~~~~~\n",
      "    1 error generated.\n",
      "    error: command 'gcc' failed with exit status 1\n",
      "    ----------------------------------------\u001b[0m\n",
      "\u001b[31mERROR: Command errored out with exit status 1: /Users/stevenhurwitt/miniforge3/envs/dealersocket/bin/python -u -c 'import io, os, sys, setuptools, tokenize; sys.argv[0] = '\"'\"'/private/var/folders/bx/9_vlv5nn2_59z73ygpc6z_0m0000gn/T/pip-install-k80mqyxs/pyodbc_f034a809f1de4ae3990c12649d6d4fea/setup.py'\"'\"'; __file__='\"'\"'/private/var/folders/bx/9_vlv5nn2_59z73ygpc6z_0m0000gn/T/pip-install-k80mqyxs/pyodbc_f034a809f1de4ae3990c12649d6d4fea/setup.py'\"'\"';f = getattr(tokenize, '\"'\"'open'\"'\"', open)(__file__) if os.path.exists(__file__) else io.StringIO('\"'\"'from setuptools import setup; setup()'\"'\"');code = f.read().replace('\"'\"'\\r\\n'\"'\"', '\"'\"'\\n'\"'\"');f.close();exec(compile(code, __file__, '\"'\"'exec'\"'\"'))' install --record /private/var/folders/bx/9_vlv5nn2_59z73ygpc6z_0m0000gn/T/pip-record-w0fh6qvn/install-record.txt --single-version-externally-managed --compile --install-headers /Users/stevenhurwitt/miniforge3/envs/dealersocket/include/python3.8/pyodbc Check the logs for full command output.\u001b[0m\n",
      "\u001b[?25h"
     ]
    }
   ],
   "source": [
    "! pip install pyodbc"
   ]
  },
  {
   "cell_type": "code",
   "execution_count": 114,
   "metadata": {},
   "outputs": [
    {
     "name": "stdout",
     "output_type": "stream",
     "text": [
      "Collecting pyyaml\n",
      "  Using cached PyYAML-5.4.1.tar.gz (175 kB)\n",
      "  Installing build dependencies ... \u001b[?25ldone\n",
      "\u001b[?25h  Getting requirements to build wheel ... \u001b[?25ldone\n",
      "\u001b[?25h    Preparing wheel metadata ... \u001b[?25ldone\n",
      "\u001b[?25hBuilding wheels for collected packages: pyyaml\n",
      "  Building wheel for pyyaml (PEP 517) ... \u001b[?25ldone\n",
      "\u001b[?25h  Created wheel for pyyaml: filename=PyYAML-5.4.1-cp38-cp38-macosx_11_0_arm64.whl size=45661 sha256=89bc9cd090faa9d9114016db512c95e198a139a183e51e7965f257e2a75b3da3\n",
      "  Stored in directory: /Users/stevenhurwitt/Library/Caches/pip/wheels/dd/c5/1d/5d7436173d3efd4a14dcb510eb0b29525ecb6b0e41489e716e\n",
      "Successfully built pyyaml\n",
      "Installing collected packages: pyyaml\n",
      "Successfully installed pyyaml-5.4.1\n"
     ]
    }
   ],
   "source": [
    "! pip install pyyaml"
   ]
  },
  {
   "cell_type": "code",
   "execution_count": 115,
   "metadata": {},
   "outputs": [
    {
     "name": "stdout",
     "output_type": "stream",
     "text": [
      "Requirement already satisfied: beautifulsoup4 in /Users/stevenhurwitt/miniforge3/envs/dealersocket/lib/python3.8/site-packages (4.9.3)\r\n",
      "Requirement already satisfied: soupsieve>1.2 in /Users/stevenhurwitt/miniforge3/envs/dealersocket/lib/python3.8/site-packages (from beautifulsoup4) (2.2.1)\r\n"
     ]
    }
   ],
   "source": [
    "! pip install beautifulsoup4"
   ]
  },
  {
   "cell_type": "code",
   "execution_count": 116,
   "metadata": {},
   "outputs": [
    {
     "name": "stdout",
     "output_type": "stream",
     "text": [
      "Requirement already satisfied: selenium in /Users/stevenhurwitt/miniforge3/envs/dealersocket/lib/python3.8/site-packages (3.141.0)\r\n",
      "Requirement already satisfied: urllib3 in /Users/stevenhurwitt/miniforge3/envs/dealersocket/lib/python3.8/site-packages (from selenium) (1.26.6)\r\n"
     ]
    }
   ],
   "source": [
    "! pip install selenium"
   ]
  },
  {
   "cell_type": "code",
   "execution_count": 117,
   "metadata": {},
   "outputs": [
    {
     "name": "stdout",
     "output_type": "stream",
     "text": [
      "appnope @ file:///Users/runner/miniforge3/conda-bld/appnope_1610094717693/work\r\n",
      "argon2-cffi @ file:///Users/runner/miniforge3/conda-bld/argon2-cffi_1625821339251/work\r\n",
      "async-generator==1.10\r\n",
      "attrs @ file:///home/conda/feedstock_root/build_artifacts/attrs_1620387926260/work\r\n",
      "backcall @ file:///home/conda/feedstock_root/build_artifacts/backcall_1592338393461/work\r\n",
      "backports.functools-lru-cache @ file:///home/conda/feedstock_root/build_artifacts/backports.functools_lru_cache_1618230623929/work\r\n",
      "beautifulsoup4==4.9.3\r\n",
      "bleach @ file:///home/conda/feedstock_root/build_artifacts/bleach_1629908509068/work\r\n",
      "blinker==1.4\r\n",
      "brotlipy==0.7.0\r\n",
      "certifi==2021.5.30\r\n",
      "cffi @ file:///Users/runner/miniforge3/conda-bld/cffi_1625835338884/work\r\n",
      "chardet @ file:///Users/runner/miniforge3/conda-bld/chardet_1610093454189/work\r\n",
      "charset-normalizer @ file:///home/conda/feedstock_root/build_artifacts/charset-normalizer_1626371162869/work\r\n",
      "cryptography @ file:///Users/runner/miniforge3/conda-bld/cryptography_1616851494399/work\r\n",
      "cx-Oracle==8.2.1\r\n",
      "cycler==0.10.0\r\n",
      "debugpy @ file:///Users/runner/miniforge3/conda-bld/debugpy_1627074942740/work\r\n",
      "decorator @ file:///home/conda/feedstock_root/build_artifacts/decorator_1621187651333/work\r\n",
      "defusedxml @ file:///home/conda/feedstock_root/build_artifacts/defusedxml_1615232257335/work\r\n",
      "entrypoints @ file:///home/conda/feedstock_root/build_artifacts/entrypoints_1605121927639/work/dist/entrypoints-0.3-py2.py3-none-any.whl\r\n",
      "idna @ file:///home/conda/feedstock_root/build_artifacts/idna_1609836280497/work\r\n",
      "importlib-metadata @ file:///Users/runner/miniforge3/conda-bld/importlib-metadata_1630238152743/work\r\n",
      "ipykernel @ file:///Users/runner/miniforge3/conda-bld/ipykernel_1629116573676/work/dist/ipykernel-6.2.0-py3-none-any.whl\r\n",
      "ipython @ file:///Users/runner/miniforge3/conda-bld/ipython_1630172574372/work\r\n",
      "ipython-genutils==0.2.0\r\n",
      "ipywidgets @ file:///home/conda/feedstock_root/build_artifacts/ipywidgets_1609995587151/work\r\n",
      "jedi @ file:///Users/runner/miniforge3/conda-bld/jedi_1610146860797/work\r\n",
      "Jinja2 @ file:///home/conda/feedstock_root/build_artifacts/jinja2_1621419064915/work\r\n",
      "jsonschema @ file:///home/conda/feedstock_root/build_artifacts/jsonschema_1614815863336/work\r\n",
      "jupyter @ file:///Users/runner/miniforge3/conda-bld/jupyter_1611871909120/work\r\n",
      "jupyter-client @ file:///home/conda/feedstock_root/build_artifacts/jupyter_client_1629905497726/work\r\n",
      "jupyter-console @ file:///home/conda/feedstock_root/build_artifacts/jupyter_console_1616560109969/work\r\n",
      "jupyter-core @ file:///Users/runner/miniforge3/conda-bld/jupyter_core_1612125280639/work\r\n",
      "jupyterlab-pygments @ file:///home/conda/feedstock_root/build_artifacts/jupyterlab_pygments_1601375948261/work\r\n",
      "jupyterlab-widgets @ file:///home/conda/feedstock_root/build_artifacts/jupyterlab_widgets_1609173350931/work\r\n",
      "kiwisolver @ file:///Users/runner/miniforge3/conda-bld/kiwisolver_1630173763481/work\r\n",
      "MarkupSafe @ file:///Users/runner/miniforge3/conda-bld/markupsafe_1621455965356/work\r\n",
      "matplotlib @ file:///Users/runner/miniforge3/conda-bld/matplotlib-suite_1628881780610/work\r\n",
      "matplotlib-inline @ file:///home/conda/feedstock_root/build_artifacts/matplotlib-inline_1618935594181/work\r\n",
      "mistune @ file:///Users/runner/miniforge3/conda-bld/mistune_1624941347518/work\r\n",
      "nbclient @ file:///home/conda/feedstock_root/build_artifacts/nbclient_1629120697898/work\r\n",
      "nbconvert @ file:///Users/runner/miniforge3/conda-bld/nbconvert_1624472700848/work\r\n",
      "nbformat @ file:///home/conda/feedstock_root/build_artifacts/nbformat_1617383142101/work\r\n",
      "nest-asyncio @ file:///home/conda/feedstock_root/build_artifacts/nest-asyncio_1617163391303/work\r\n",
      "notebook @ file:///home/conda/feedstock_root/build_artifacts/notebook_1628690102344/work\r\n",
      "numpy @ file:///Users/runner/miniforge3/conda-bld/numpy_1629092089725/work\r\n",
      "oauthlib @ file:///home/conda/feedstock_root/build_artifacts/oauthlib_1622563202229/work\r\n",
      "olefile @ file:///home/conda/feedstock_root/build_artifacts/olefile_1602866521163/work\r\n",
      "packaging @ file:///home/conda/feedstock_root/build_artifacts/packaging_1625323647219/work\r\n",
      "pandas==1.3.2\r\n",
      "pandocfilters==1.4.2\r\n",
      "parso @ file:///home/conda/feedstock_root/build_artifacts/parso_1617148930513/work\r\n",
      "pexpect @ file:///home/conda/feedstock_root/build_artifacts/pexpect_1602535608087/work\r\n",
      "pickleshare @ file:///home/conda/feedstock_root/build_artifacts/pickleshare_1602536217715/work\r\n",
      "Pillow @ file:///Users/runner/miniforge3/conda-bld/pillow_1625678155585/work\r\n",
      "prometheus-client @ file:///home/conda/feedstock_root/build_artifacts/prometheus_client_1622586138406/work\r\n",
      "prompt-toolkit @ file:///home/conda/feedstock_root/build_artifacts/prompt-toolkit_1629903925368/work\r\n",
      "ptyprocess @ file:///home/conda/feedstock_root/build_artifacts/ptyprocess_1609419310487/work/dist/ptyprocess-0.7.0-py2.py3-none-any.whl\r\n",
      "pycparser @ file:///home/conda/feedstock_root/build_artifacts/pycparser_1593275161868/work\r\n",
      "Pygments @ file:///home/conda/feedstock_root/build_artifacts/pygments_1629119114968/work\r\n",
      "PyJWT @ file:///home/conda/feedstock_root/build_artifacts/pyjwt_1619620644068/work\r\n",
      "pyOpenSSL @ file:///home/conda/feedstock_root/build_artifacts/pyopenssl_1608055815057/work\r\n",
      "pyparsing==2.4.7\r\n",
      "pyrsistent @ file:///Users/runner/miniforge3/conda-bld/pyrsistent_1624984597560/work\r\n",
      "PySocks @ file:///Users/runner/miniforge3/conda-bld/pysocks_1610291456365/work\r\n",
      "python-dateutil @ file:///home/conda/feedstock_root/build_artifacts/python-dateutil_1626286286081/work\r\n",
      "pytz @ file:///home/conda/feedstock_root/build_artifacts/pytz_1612179539967/work\r\n",
      "PyYAML==5.4.1\r\n",
      "pyzmq @ file:///Users/runner/miniforge3/conda-bld/pyzmq_1628233173073/work\r\n",
      "qtconsole==5.1.1\r\n",
      "QtPy==1.10.0\r\n",
      "requests @ file:///home/conda/feedstock_root/build_artifacts/requests_1626393743643/work\r\n",
      "requests-oauthlib @ file:///home/conda/feedstock_root/build_artifacts/requests-oauthlib_1595492159598/work\r\n",
      "selenium==3.141.0\r\n",
      "Send2Trash @ file:///home/conda/feedstock_root/build_artifacts/send2trash_1628511208346/work\r\n",
      "six @ file:///home/conda/feedstock_root/build_artifacts/six_1620240208055/work\r\n",
      "soupsieve==2.2.1\r\n",
      "terminado @ file:///Users/runner/miniforge3/conda-bld/terminado_1629328228800/work\r\n",
      "testpath @ file:///home/conda/feedstock_root/build_artifacts/testpath_1621261527237/work\r\n",
      "tornado @ file:///Users/runner/miniforge3/conda-bld/tornado_1625488911690/work\r\n",
      "traitlets @ file:///home/conda/feedstock_root/build_artifacts/traitlets_1602771532708/work\r\n",
      "urllib3 @ file:///home/conda/feedstock_root/build_artifacts/urllib3_1624634538755/work\r\n",
      "wcwidth @ file:///home/conda/feedstock_root/build_artifacts/wcwidth_1600965781394/work\r\n",
      "webencodings==0.5.1\r\n",
      "widgetsnbextension @ file:///Users/runner/miniforge3/conda-bld/widgetsnbextension_1605475524172/work\r\n",
      "zipp @ file:///home/conda/feedstock_root/build_artifacts/zipp_1625284368454/work\r\n"
     ]
    }
   ],
   "source": [
    "! pip freeze"
   ]
  },
  {
   "cell_type": "code",
   "execution_count": 119,
   "metadata": {},
   "outputs": [
    {
     "name": "stdout",
     "output_type": "stream",
     "text": [
      "Collecting pytest\n",
      "  Using cached pytest-6.2.4-py3-none-any.whl (280 kB)\n",
      "Collecting pluggy<1.0.0a1,>=0.12\n",
      "  Using cached pluggy-0.13.1-py2.py3-none-any.whl (18 kB)\n",
      "Collecting toml\n",
      "  Using cached toml-0.10.2-py2.py3-none-any.whl (16 kB)\n",
      "Requirement already satisfied: packaging in /Users/stevenhurwitt/miniforge3/envs/dealersocket/lib/python3.8/site-packages (from pytest) (21.0)\n",
      "Collecting py>=1.8.2\n",
      "  Using cached py-1.10.0-py2.py3-none-any.whl (97 kB)\n",
      "Collecting iniconfig\n",
      "  Using cached iniconfig-1.1.1-py2.py3-none-any.whl (5.0 kB)\n",
      "Requirement already satisfied: attrs>=19.2.0 in /Users/stevenhurwitt/miniforge3/envs/dealersocket/lib/python3.8/site-packages (from pytest) (21.2.0)\n",
      "Requirement already satisfied: pyparsing>=2.0.2 in /Users/stevenhurwitt/miniforge3/envs/dealersocket/lib/python3.8/site-packages (from packaging->pytest) (2.4.7)\n",
      "Installing collected packages: toml, py, pluggy, iniconfig, pytest\n",
      "Successfully installed iniconfig-1.1.1 pluggy-0.13.1 py-1.10.0 pytest-6.2.4 toml-0.10.2\n"
     ]
    }
   ],
   "source": [
    "! pip install pytest"
   ]
  },
  {
   "cell_type": "code",
   "execution_count": 120,
   "metadata": {},
   "outputs": [
    {
     "name": "stdout",
     "output_type": "stream",
     "text": [
      "froze requirements.txt\n"
     ]
    }
   ],
   "source": [
    "! pip freeze > requirements.txt\n",
    "print(\"froze requirements.txt\")"
   ]
  },
  {
   "cell_type": "code",
   "execution_count": 121,
   "metadata": {},
   "outputs": [
    {
     "name": "stdout",
     "output_type": "stream",
     "text": [
      "\u001b[34mIDR_Drop\u001b[m\u001b[m         README.md        requirements.txt\r\n",
      "LICENSE          \u001b[34mdealersocket\u001b[m\u001b[m\r\n"
     ]
    }
   ],
   "source": [
    "! ls"
   ]
  },
  {
   "cell_type": "code",
   "execution_count": null,
   "metadata": {},
   "outputs": [],
   "source": [
    "# ! pip install -r requirements.txt"
   ]
  },
  {
   "cell_type": "code",
   "execution_count": 123,
   "metadata": {},
   "outputs": [
    {
     "ename": "NameError",
     "evalue": "name 'requests' is not defined",
     "output_type": "error",
     "traceback": [
      "\u001b[0;31m---------------------------------------------------------------------------\u001b[0m",
      "\u001b[0;31mNameError\u001b[0m                                 Traceback (most recent call last)",
      "\u001b[0;32m/var/folders/bx/9_vlv5nn2_59z73ygpc6z_0m0000gn/T/ipykernel_57261/4198875777.py\u001b[0m in \u001b[0;36m<module>\u001b[0;34m\u001b[0m\n\u001b[0;32m----> 1\u001b[0;31m \u001b[0mdir\u001b[0m\u001b[0;34m(\u001b[0m\u001b[0mrequests\u001b[0m\u001b[0;34m)\u001b[0m\u001b[0;34m\u001b[0m\u001b[0;34m\u001b[0m\u001b[0m\n\u001b[0m",
      "\u001b[0;31mNameError\u001b[0m: name 'requests' is not defined"
     ]
    }
   ],
   "source": []
  },
  {
   "cell_type": "code",
   "execution_count": null,
   "metadata": {},
   "outputs": [],
   "source": []
  },
  {
   "cell_type": "markdown",
   "metadata": {},
   "source": [
    "## etc..."
   ]
  },
  {
   "cell_type": "code",
   "execution_count": 74,
   "metadata": {},
   "outputs": [],
   "source": [
    "! source ~/.zshrc"
   ]
  },
  {
   "cell_type": "markdown",
   "metadata": {},
   "source": [
    "## default python"
   ]
  },
  {
   "cell_type": "code",
   "execution_count": 124,
   "metadata": {},
   "outputs": [
    {
     "name": "stdout",
     "output_type": "stream",
     "text": [
      "Python 3.8.11\n",
      "pip 21.2.2 from /Users/stevenhurwitt/miniforge3/envs/dealersocket/lib/python3.8/site-packages/pip (python 3.8)\n"
     ]
    }
   ],
   "source": [
    "! python --version\n",
    "! pip --version"
   ]
  },
  {
   "cell_type": "markdown",
   "metadata": {},
   "source": [
    "## dbx"
   ]
  },
  {
   "cell_type": "code",
   "execution_count": 130,
   "metadata": {},
   "outputs": [
    {
     "name": "stdout",
     "output_type": "stream",
     "text": [
      "Python 3.7.10 (77787b8f4c49, May 19 2021, 05:28:43)\n",
      "[PyPy 7.3.5 with GCC Apple LLVM 12.0.5 (clang-1205.0.22.9)]\n",
      "pip 21.2.4 from /Users/stevenhurwitt/.pyenv/versions/pypy3.7-7.3.5/site-packages/pip (python 3.7)\n"
     ]
    }
   ],
   "source": [
    "! python3.7 --version\n",
    "! python3.7 -m pip --version"
   ]
  },
  {
   "cell_type": "code",
   "execution_count": 126,
   "metadata": {},
   "outputs": [
    {
     "name": "stdout",
     "output_type": "stream",
     "text": [
      "openjdk version \"1.8.0_302\"\r\n",
      "OpenJDK Runtime Environment (Zulu 8.56.0.23-CA-macos-aarch64) (build 1.8.0_302-b08)\r\n",
      "OpenJDK 64-Bit Server VM (Zulu 8.56.0.23-CA-macos-aarch64) (build 25.302-b08, mixed mode)\r\n"
     ]
    }
   ],
   "source": [
    "! java -version"
   ]
  },
  {
   "cell_type": "code",
   "execution_count": 127,
   "metadata": {},
   "outputs": [
    {
     "name": "stdout",
     "output_type": "stream",
     "text": [
      "Scala code runner version 2.13.6 -- Copyright 2002-2021, LAMP/EPFL and Lightbend, Inc.\r\n"
     ]
    }
   ],
   "source": [
    "! scala -version"
   ]
  },
  {
   "cell_type": "code",
   "execution_count": 133,
   "metadata": {},
   "outputs": [
    {
     "name": "stdout",
     "output_type": "stream",
     "text": [
      "Authenticating with existing credentials...\n",
      "Login Succeeded\n"
     ]
    }
   ],
   "source": [
    "! docker login"
   ]
  },
  {
   "cell_type": "code",
   "execution_count": 134,
   "metadata": {},
   "outputs": [
    {
     "name": "stdout",
     "output_type": "stream",
     "text": [
      "\u001b[93mThe default web browser has been opened at https://login.microsoftonline.com/common/oauth2/authorize. Please continue the login in the web browser. If no web browser is available or if the web browser fails to open, use device code flow with `az login --use-device-code`.\u001b[0m\n",
      "\u001b[93mYou have logged in. Now let us find all the subscriptions to which you have access...\u001b[0m\n",
      "[\n",
      "  {\n",
      "    \"cloudName\": \"AzureCloud\",\n",
      "    \"homeTenantId\": \"ea80952e-a476-42d4-aaf4-5457852b0f7e\",\n",
      "    \"id\": \"f55d4ef9-4d7f-4763-8661-9b82de6c08c9\",\n",
      "    \"isDefault\": true,\n",
      "    \"managedByTenants\": [\n",
      "      {\n",
      "        \"tenantId\": \"2f4a9838-26b7-47ee-be60-ccc1fdec5953\"\n",
      "      }\n",
      "    ],\n",
      "    \"name\": \"zne-udl1-p-ust0-sbc\",\n",
      "    \"state\": \"Enabled\",\n",
      "    \"tenantId\": \"ea80952e-a476-42d4-aaf4-5457852b0f7e\",\n",
      "    \"user\": {\n",
      "      \"name\": \"Steven.Hurwitt@bp.com\",\n",
      "      \"type\": \"user\"\n",
      "    }\n",
      "  },\n",
      "  {\n",
      "    \"cloudName\": \"AzureCloud\",\n",
      "    \"homeTenantId\": \"ea80952e-a476-42d4-aaf4-5457852b0f7e\",\n",
      "    \"id\": \"3dc3f829-f5db-4014-b75f-1718ffb337b2\",\n",
      "    \"isDefault\": false,\n",
      "    \"managedByTenants\": [\n",
      "      {\n",
      "        \"tenantId\": \"2f4a9838-26b7-47ee-be60-ccc1fdec5953\"\n",
      "      }\n",
      "    ],\n",
      "    \"name\": \"zne-usw0-n-idm-sbc\",\n",
      "    \"state\": \"Enabled\",\n",
      "    \"tenantId\": \"ea80952e-a476-42d4-aaf4-5457852b0f7e\",\n",
      "    \"user\": {\n",
      "      \"name\": \"Steven.Hurwitt@bp.com\",\n",
      "      \"type\": \"user\"\n",
      "    }\n",
      "  },\n",
      "  {\n",
      "    \"cloudName\": \"AzureCloud\",\n",
      "    \"homeTenantId\": \"ea80952e-a476-42d4-aaf4-5457852b0f7e\",\n",
      "    \"id\": \"ae3f2be6-92ad-4a3a-9f90-baf1e9b3562c\",\n",
      "    \"isDefault\": false,\n",
      "    \"managedByTenants\": [],\n",
      "    \"name\": \"zsc-evcs-p-mswvd-sbc\",\n",
      "    \"state\": \"Enabled\",\n",
      "    \"tenantId\": \"ea80952e-a476-42d4-aaf4-5457852b0f7e\",\n",
      "    \"user\": {\n",
      "      \"name\": \"Steven.Hurwitt@bp.com\",\n",
      "      \"type\": \"user\"\n",
      "    }\n",
      "  },\n",
      "  {\n",
      "    \"cloudName\": \"AzureCloud\",\n",
      "    \"homeTenantId\": \"ea80952e-a476-42d4-aaf4-5457852b0f7e\",\n",
      "    \"id\": \"6539e0ec-09d4-4b35-9bd0-d35dba747572\",\n",
      "    \"isDefault\": false,\n",
      "    \"managedByTenants\": [],\n",
      "    \"name\": \"zsc-envd-p-ras-sbc\",\n",
      "    \"state\": \"Enabled\",\n",
      "    \"tenantId\": \"ea80952e-a476-42d4-aaf4-5457852b0f7e\",\n",
      "    \"user\": {\n",
      "      \"name\": \"Steven.Hurwitt@bp.com\",\n",
      "      \"type\": \"user\"\n",
      "    }\n",
      "  },\n",
      "  {\n",
      "    \"cloudName\": \"AzureCloud\",\n",
      "    \"homeTenantId\": \"ea80952e-a476-42d4-aaf4-5457852b0f7e\",\n",
      "    \"id\": \"3a7b4fea-df52-4b37-92c1-3ed9aafac9fb\",\n",
      "    \"isDefault\": false,\n",
      "    \"managedByTenants\": [],\n",
      "    \"name\": \"zne-envd-p-ras-sbc\",\n",
      "    \"state\": \"Enabled\",\n",
      "    \"tenantId\": \"ea80952e-a476-42d4-aaf4-5457852b0f7e\",\n",
      "    \"user\": {\n",
      "      \"name\": \"Steven.Hurwitt@bp.com\",\n",
      "      \"type\": \"user\"\n",
      "    }\n",
      "  },\n",
      "  {\n",
      "    \"cloudName\": \"AzureCloud\",\n",
      "    \"homeTenantId\": \"ea80952e-a476-42d4-aaf4-5457852b0f7e\",\n",
      "    \"id\": \"b4c9bbf7-fef0-49e3-b326-1b80149ebe0c\",\n",
      "    \"isDefault\": false,\n",
      "    \"managedByTenants\": [],\n",
      "    \"name\": \"zsa-edwp-p-apvcs-sbc\",\n",
      "    \"state\": \"Enabled\",\n",
      "    \"tenantId\": \"ea80952e-a476-42d4-aaf4-5457852b0f7e\",\n",
      "    \"user\": {\n",
      "      \"name\": \"Steven.Hurwitt@bp.com\",\n",
      "      \"type\": \"user\"\n",
      "    }\n",
      "  },\n",
      "  {\n",
      "    \"cloudName\": \"AzureCloud\",\n",
      "    \"homeTenantId\": \"ea80952e-a476-42d4-aaf4-5457852b0f7e\",\n",
      "    \"id\": \"2b310ddf-3296-456b-92f8-5cfff2f8e8c2\",\n",
      "    \"isDefault\": false,\n",
      "    \"managedByTenants\": [],\n",
      "    \"name\": \"zne-evcs-p-dwp-sbc\",\n",
      "    \"state\": \"Enabled\",\n",
      "    \"tenantId\": \"ea80952e-a476-42d4-aaf4-5457852b0f7e\",\n",
      "    \"user\": {\n",
      "      \"name\": \"Steven.Hurwitt@bp.com\",\n",
      "      \"type\": \"user\"\n",
      "    }\n",
      "  },\n",
      "  {\n",
      "    \"cloudName\": \"AzureCloud\",\n",
      "    \"homeTenantId\": \"ea80952e-a476-42d4-aaf4-5457852b0f7e\",\n",
      "    \"id\": \"eb118bf0-7368-4d05-ba02-9cf31cb431f7\",\n",
      "    \"isDefault\": false,\n",
      "    \"managedByTenants\": [],\n",
      "    \"name\": \"zne-ewpe-p-wndgms-sbc\",\n",
      "    \"state\": \"Enabled\",\n",
      "    \"tenantId\": \"ea80952e-a476-42d4-aaf4-5457852b0f7e\",\n",
      "    \"user\": {\n",
      "      \"name\": \"Steven.Hurwitt@bp.com\",\n",
      "      \"type\": \"user\"\n",
      "    }\n",
      "  },\n",
      "  {\n",
      "    \"cloudName\": \"AzureCloud\",\n",
      "    \"homeTenantId\": \"ea80952e-a476-42d4-aaf4-5457852b0f7e\",\n",
      "    \"id\": \"1acbaf85-58aa-4f0a-a93b-9176a0f08bd3\",\n",
      "    \"isDefault\": false,\n",
      "    \"managedByTenants\": [],\n",
      "    \"name\": \"zwe-ess1-sbc\",\n",
      "    \"state\": \"Enabled\",\n",
      "    \"tenantId\": \"ea80952e-a476-42d4-aaf4-5457852b0f7e\",\n",
      "    \"user\": {\n",
      "      \"name\": \"Steven.Hurwitt@bp.com\",\n",
      "      \"type\": \"user\"\n",
      "    }\n",
      "  },\n",
      "  {\n",
      "    \"cloudName\": \"AzureCloud\",\n",
      "    \"homeTenantId\": \"ea80952e-a476-42d4-aaf4-5457852b0f7e\",\n",
      "    \"id\": \"7d5f9f0d-5f8a-4159-9fd5-42435ad8b764\",\n",
      "    \"isDefault\": false,\n",
      "    \"managedByTenants\": [],\n",
      "    \"name\": \"zne-eds1-n-test-sbc\",\n",
      "    \"state\": \"Enabled\",\n",
      "    \"tenantId\": \"ea80952e-a476-42d4-aaf4-5457852b0f7e\",\n",
      "    \"user\": {\n",
      "      \"name\": \"Steven.Hurwitt@bp.com\",\n",
      "      \"type\": \"user\"\n",
      "    }\n",
      "  },\n",
      "  {\n",
      "    \"cloudName\": \"AzureCloud\",\n",
      "    \"homeTenantId\": \"ea80952e-a476-42d4-aaf4-5457852b0f7e\",\n",
      "    \"id\": \"5c42403b-0ffd-4d5c-a477-b74227af91ac\",\n",
      "    \"isDefault\": false,\n",
      "    \"managedByTenants\": [],\n",
      "    \"name\": \"znc-ess1-sbc\",\n",
      "    \"state\": \"Enabled\",\n",
      "    \"tenantId\": \"ea80952e-a476-42d4-aaf4-5457852b0f7e\",\n",
      "    \"user\": {\n",
      "      \"name\": \"Steven.Hurwitt@bp.com\",\n",
      "      \"type\": \"user\"\n",
      "    }\n",
      "  },\n",
      "  {\n",
      "    \"cloudName\": \"AzureCloud\",\n",
      "    \"homeTenantId\": \"ea80952e-a476-42d4-aaf4-5457852b0f7e\",\n",
      "    \"id\": \"4fd3bb7a-ecde-46f0-89d8-124cd5a7b075\",\n",
      "    \"isDefault\": false,\n",
      "    \"managedByTenants\": [],\n",
      "    \"name\": \"zne-ess1-sbc\",\n",
      "    \"state\": \"Enabled\",\n",
      "    \"tenantId\": \"ea80952e-a476-42d4-aaf4-5457852b0f7e\",\n",
      "    \"user\": {\n",
      "      \"name\": \"Steven.Hurwitt@bp.com\",\n",
      "      \"type\": \"user\"\n",
      "    }\n",
      "  },\n",
      "  {\n",
      "    \"cloudName\": \"AzureCloud\",\n",
      "    \"homeTenantId\": \"ea80952e-a476-42d4-aaf4-5457852b0f7e\",\n",
      "    \"id\": \"719f5bc7-faa1-4724-95ac-d0153e84c8f5\",\n",
      "    \"isDefault\": false,\n",
      "    \"managedByTenants\": [],\n",
      "    \"name\": \"zsc-ess1-sbc\",\n",
      "    \"state\": \"Enabled\",\n",
      "    \"tenantId\": \"ea80952e-a476-42d4-aaf4-5457852b0f7e\",\n",
      "    \"user\": {\n",
      "      \"name\": \"Steven.Hurwitt@bp.com\",\n",
      "      \"type\": \"user\"\n",
      "    }\n",
      "  },\n",
      "  {\n",
      "    \"cloudName\": \"AzureCloud\",\n",
      "    \"homeTenantId\": \"ea80952e-a476-42d4-aaf4-5457852b0f7e\",\n",
      "    \"id\": \"26518870-f42b-4800-8f93-ce687f3bd9a4\",\n",
      "    \"isDefault\": false,\n",
      "    \"managedByTenants\": [\n",
      "      {\n",
      "        \"tenantId\": \"2f4a9838-26b7-47ee-be60-ccc1fdec5953\"\n",
      "      }\n",
      "    ],\n",
      "    \"name\": \"zsc-udl0-n-ust0-sbc\",\n",
      "    \"state\": \"Enabled\",\n",
      "    \"tenantId\": \"ea80952e-a476-42d4-aaf4-5457852b0f7e\",\n",
      "    \"user\": {\n",
      "      \"name\": \"Steven.Hurwitt@bp.com\",\n",
      "      \"type\": \"user\"\n",
      "    }\n",
      "  },\n",
      "  {\n",
      "    \"cloudName\": \"AzureCloud\",\n",
      "    \"homeTenantId\": \"ea80952e-a476-42d4-aaf4-5457852b0f7e\",\n",
      "    \"id\": \"0af2cfef-5d80-4171-ac37-2c2bded97551\",\n",
      "    \"isDefault\": false,\n",
      "    \"managedByTenants\": [\n",
      "      {\n",
      "        \"tenantId\": \"2f4a9838-26b7-47ee-be60-ccc1fdec5953\"\n",
      "      }\n",
      "    ],\n",
      "    \"name\": \"zne-udl0-n-ust0-sbc\",\n",
      "    \"state\": \"Enabled\",\n",
      "    \"tenantId\": \"ea80952e-a476-42d4-aaf4-5457852b0f7e\",\n",
      "    \"user\": {\n",
      "      \"name\": \"Steven.Hurwitt@bp.com\",\n",
      "      \"type\": \"user\"\n",
      "    }\n",
      "  },\n",
      "  {\n",
      "    \"cloudName\": \"AzureCloud\",\n",
      "    \"homeTenantId\": \"ea80952e-a476-42d4-aaf4-5457852b0f7e\",\n",
      "    \"id\": \"19a7a8f0-6b4f-460e-9df1-11784b01b6e8\",\n",
      "    \"isDefault\": false,\n",
      "    \"managedByTenants\": [],\n",
      "    \"name\": \"zsa-ess1-p-sbc\",\n",
      "    \"state\": \"Enabled\",\n",
      "    \"tenantId\": \"ea80952e-a476-42d4-aaf4-5457852b0f7e\",\n",
      "    \"user\": {\n",
      "      \"name\": \"Steven.Hurwitt@bp.com\",\n",
      "      \"type\": \"user\"\n",
      "    }\n",
      "  }\n",
      "]\n"
     ]
    }
   ],
   "source": [
    "! az login"
   ]
  },
  {
   "cell_type": "code",
   "execution_count": 129,
   "metadata": {},
   "outputs": [
    {
     "name": "stdout",
     "output_type": "stream",
     "text": [
      "\u001b[34mIDR_Drop\u001b[m\u001b[m         README.md        requirements.txt\r\n",
      "LICENSE          \u001b[34mdealersocket\u001b[m\u001b[m\r\n"
     ]
    }
   ],
   "source": [
    "! ls"
   ]
  },
  {
   "cell_type": "markdown",
   "metadata": {},
   "source": [
    "## pip error"
   ]
  },
  {
   "cell_type": "code",
   "execution_count": 135,
   "metadata": {},
   "outputs": [],
   "source": [
    "! source ./dealersocket/bin/activate"
   ]
  },
  {
   "cell_type": "code",
   "execution_count": 136,
   "metadata": {},
   "outputs": [
    {
     "name": "stdout",
     "output_type": "stream",
     "text": [
      "Processing /Users/runner/miniforge3/conda-bld/appnope_1610094717693/work\r\n",
      "\u001b[31mERROR: Could not install packages due to an OSError: [Errno 2] No such file or directory: '/Users/runner/miniforge3/conda-bld/appnope_1610094717693/work'\r\n",
      "\u001b[0m\r\n"
     ]
    }
   ],
   "source": [
    "! python3.7 -m pip install -r requirements.txt"
   ]
  },
  {
   "cell_type": "code",
   "execution_count": 138,
   "metadata": {},
   "outputs": [
    {
     "name": "stdout",
     "output_type": "stream",
     "text": [
      "Python 3.7.10 (77787b8f4c49, May 19 2021, 05:28:43)\r\n",
      "[PyPy 7.3.5 with GCC Apple LLVM 12.0.5 (clang-1205.0.22.9)]\r\n"
     ]
    }
   ],
   "source": [
    "! python3.7 --version"
   ]
  },
  {
   "cell_type": "code",
   "execution_count": 139,
   "metadata": {},
   "outputs": [
    {
     "name": "stdout",
     "output_type": "stream",
     "text": [
      "pip 21.2.4 from /Users/stevenhurwitt/.pyenv/versions/pypy3.7-7.3.5/site-packages/pip (python 3.7)\r\n"
     ]
    }
   ],
   "source": [
    "! python3.7 -m pip --version"
   ]
  },
  {
   "cell_type": "code",
   "execution_count": 140,
   "metadata": {},
   "outputs": [
    {
     "name": "stdout",
     "output_type": "stream",
     "text": [
      "Processing /Users/runner/miniforge3/conda-bld/appnope_1610094717693/work\r\n",
      "\u001b[31mERROR: Could not install packages due to an OSError: [Errno 2] No such file or directory: '/Users/runner/miniforge3/conda-bld/appnope_1610094717693/work'\r\n",
      "\u001b[0m\r\n"
     ]
    }
   ],
   "source": [
    "! python3.7 -m pip install -r requirements.txt"
   ]
  },
  {
   "cell_type": "code",
   "execution_count": 125,
   "metadata": {},
   "outputs": [],
   "source": [
    "# ! apt install sql"
   ]
  },
  {
   "cell_type": "markdown",
   "metadata": {},
   "source": [
    "## pyodbc install error"
   ]
  },
  {
   "cell_type": "code",
   "execution_count": 142,
   "metadata": {},
   "outputs": [
    {
     "name": "stdout",
     "output_type": "stream",
     "text": [
      "Collecting pyodbc\n",
      "  Using cached pyodbc-4.0.32.tar.gz (280 kB)\n",
      "Building wheels for collected packages: pyodbc\n",
      "  Building wheel for pyodbc (setup.py) ... \u001b[?25lerror\n",
      "\u001b[31m  ERROR: Command errored out with exit status 1:\n",
      "   command: /usr/local/bin/python3.7 -u -c 'import io, os, sys, setuptools, tokenize; sys.argv[0] = '\"'\"'/private/var/folders/bx/9_vlv5nn2_59z73ygpc6z_0m0000gn/T/pip-install-g5tg0hda/pyodbc_98ef1aa9c5b44744a640d915c36035d0/setup.py'\"'\"'; __file__='\"'\"'/private/var/folders/bx/9_vlv5nn2_59z73ygpc6z_0m0000gn/T/pip-install-g5tg0hda/pyodbc_98ef1aa9c5b44744a640d915c36035d0/setup.py'\"'\"';f = getattr(tokenize, '\"'\"'open'\"'\"', open)(__file__) if os.path.exists(__file__) else io.StringIO('\"'\"'from setuptools import setup; setup()'\"'\"');code = f.read().replace('\"'\"'\\r\\n'\"'\"', '\"'\"'\\n'\"'\"');f.close();exec(compile(code, __file__, '\"'\"'exec'\"'\"'))' bdist_wheel -d /private/var/folders/bx/9_vlv5nn2_59z73ygpc6z_0m0000gn/T/pip-wheel-oyiof86v\n",
      "       cwd: /private/var/folders/bx/9_vlv5nn2_59z73ygpc6z_0m0000gn/T/pip-install-g5tg0hda/pyodbc_98ef1aa9c5b44744a640d915c36035d0/\n",
      "  Complete output (15 lines):\n",
      "  running bdist_wheel\n",
      "  running build\n",
      "  running build_ext\n",
      "  building 'pyodbc' extension\n",
      "  creating build\n",
      "  creating build/temp.macosx-10.7-x86_64-3.7\n",
      "  creating build/temp.macosx-10.7-x86_64-3.7/src\n",
      "  gcc -pthread -arch x86_64 -DNDEBUG -O2 -fPIC -DPYODBC_VERSION=4.0.32 -UMAC_OS_X_VERSION_10_7 -I/usr/local/include -I/Users/stevenhurwitt/.pyenv/versions/pypy3.7-7.3.5/include -c src/buffer.cpp -o build/temp.macosx-10.7-x86_64-3.7/src/buffer.o -Wno-write-strings -Wno-deprecated-declarations\n",
      "  clang: warning: include path for libstdc++ headers not found; pass '-stdlib=libc++' on the command line to use the libc++ standard library instead [-Wstdlibcxx-not-found]\n",
      "  In file included from src/buffer.cpp:12:\n",
      "  src/pyodbc.h:56:10: fatal error: 'sql.h' file not found\n",
      "  #include <sql.h>\n",
      "           ^~~~~~~\n",
      "  1 error generated.\n",
      "  error: command 'gcc' failed with exit status 1\n",
      "  ----------------------------------------\u001b[0m\n",
      "\u001b[31m  ERROR: Failed building wheel for pyodbc\u001b[0m\n",
      "\u001b[?25h  Running setup.py clean for pyodbc\n",
      "Failed to build pyodbc\n",
      "Installing collected packages: pyodbc\n",
      "    Running setup.py install for pyodbc ... \u001b[?25lerror\n",
      "\u001b[31m    ERROR: Command errored out with exit status 1:\n",
      "     command: /usr/local/bin/python3.7 -u -c 'import io, os, sys, setuptools, tokenize; sys.argv[0] = '\"'\"'/private/var/folders/bx/9_vlv5nn2_59z73ygpc6z_0m0000gn/T/pip-install-g5tg0hda/pyodbc_98ef1aa9c5b44744a640d915c36035d0/setup.py'\"'\"'; __file__='\"'\"'/private/var/folders/bx/9_vlv5nn2_59z73ygpc6z_0m0000gn/T/pip-install-g5tg0hda/pyodbc_98ef1aa9c5b44744a640d915c36035d0/setup.py'\"'\"';f = getattr(tokenize, '\"'\"'open'\"'\"', open)(__file__) if os.path.exists(__file__) else io.StringIO('\"'\"'from setuptools import setup; setup()'\"'\"');code = f.read().replace('\"'\"'\\r\\n'\"'\"', '\"'\"'\\n'\"'\"');f.close();exec(compile(code, __file__, '\"'\"'exec'\"'\"'))' install --record /private/var/folders/bx/9_vlv5nn2_59z73ygpc6z_0m0000gn/T/pip-record-m2jjz6qk/install-record.txt --single-version-externally-managed --compile --install-headers /Users/stevenhurwitt/.pyenv/versions/pypy3.7-7.3.5/include/pyodbc\n",
      "         cwd: /private/var/folders/bx/9_vlv5nn2_59z73ygpc6z_0m0000gn/T/pip-install-g5tg0hda/pyodbc_98ef1aa9c5b44744a640d915c36035d0/\n",
      "    Complete output (15 lines):\n",
      "    running install\n",
      "    running build\n",
      "    running build_ext\n",
      "    building 'pyodbc' extension\n",
      "    creating build\n",
      "    creating build/temp.macosx-10.7-x86_64-3.7\n",
      "    creating build/temp.macosx-10.7-x86_64-3.7/src\n",
      "    gcc -pthread -arch x86_64 -DNDEBUG -O2 -fPIC -DPYODBC_VERSION=4.0.32 -UMAC_OS_X_VERSION_10_7 -I/usr/local/include -I/Users/stevenhurwitt/.pyenv/versions/pypy3.7-7.3.5/include -c src/buffer.cpp -o build/temp.macosx-10.7-x86_64-3.7/src/buffer.o -Wno-write-strings -Wno-deprecated-declarations\n",
      "    clang: warning: include path for libstdc++ headers not found; pass '-stdlib=libc++' on the command line to use the libc++ standard library instead [-Wstdlibcxx-not-found]\n",
      "    In file included from src/buffer.cpp:12:\n",
      "    src/pyodbc.h:56:10: fatal error: 'sql.h' file not found\n",
      "    #include <sql.h>\n",
      "             ^~~~~~~\n",
      "    1 error generated.\n",
      "    error: command 'gcc' failed with exit status 1\n",
      "    ----------------------------------------\u001b[0m\n",
      "\u001b[31mERROR: Command errored out with exit status 1: /usr/local/bin/python3.7 -u -c 'import io, os, sys, setuptools, tokenize; sys.argv[0] = '\"'\"'/private/var/folders/bx/9_vlv5nn2_59z73ygpc6z_0m0000gn/T/pip-install-g5tg0hda/pyodbc_98ef1aa9c5b44744a640d915c36035d0/setup.py'\"'\"'; __file__='\"'\"'/private/var/folders/bx/9_vlv5nn2_59z73ygpc6z_0m0000gn/T/pip-install-g5tg0hda/pyodbc_98ef1aa9c5b44744a640d915c36035d0/setup.py'\"'\"';f = getattr(tokenize, '\"'\"'open'\"'\"', open)(__file__) if os.path.exists(__file__) else io.StringIO('\"'\"'from setuptools import setup; setup()'\"'\"');code = f.read().replace('\"'\"'\\r\\n'\"'\"', '\"'\"'\\n'\"'\"');f.close();exec(compile(code, __file__, '\"'\"'exec'\"'\"'))' install --record /private/var/folders/bx/9_vlv5nn2_59z73ygpc6z_0m0000gn/T/pip-record-m2jjz6qk/install-record.txt --single-version-externally-managed --compile --install-headers /Users/stevenhurwitt/.pyenv/versions/pypy3.7-7.3.5/include/pyodbc Check the logs for full command output.\u001b[0m\n",
      "\u001b[?25h"
     ]
    }
   ],
   "source": [
    "! python3.7 -m pip install pyodbc"
   ]
  },
  {
   "cell_type": "code",
   "execution_count": 141,
   "metadata": {},
   "outputs": [
    {
     "ename": "ModuleNotFoundError",
     "evalue": "No module named 'pyodbc'",
     "output_type": "error",
     "traceback": [
      "\u001b[0;31m---------------------------------------------------------------------------\u001b[0m",
      "\u001b[0;31mModuleNotFoundError\u001b[0m                       Traceback (most recent call last)",
      "\u001b[0;32m/var/folders/bx/9_vlv5nn2_59z73ygpc6z_0m0000gn/T/ipykernel_57261/2670003486.py\u001b[0m in \u001b[0;36m<module>\u001b[0;34m\u001b[0m\n\u001b[0;32m----> 1\u001b[0;31m \u001b[0;32mimport\u001b[0m \u001b[0mpyodbc\u001b[0m\u001b[0;34m\u001b[0m\u001b[0;34m\u001b[0m\u001b[0m\n\u001b[0m",
      "\u001b[0;31mModuleNotFoundError\u001b[0m: No module named 'pyodbc'"
     ]
    }
   ],
   "source": [
    "import pyodbc"
   ]
  },
  {
   "cell_type": "code",
   "execution_count": null,
   "metadata": {},
   "outputs": [],
   "source": []
  }
 ],
 "metadata": {
  "kernelspec": {
   "display_name": "dbx-p40",
   "language": "python",
   "name": "dbx-p40"
  },
  "language_info": {
   "codemirror_mode": {
    "name": "ipython",
    "version": 3
   },
   "file_extension": ".py",
   "mimetype": "text/x-python",
   "name": "python",
   "nbconvert_exporter": "python",
   "pygments_lexer": "ipython3",
   "version": "3.7.10"
  }
 },
 "nbformat": 4,
 "nbformat_minor": 2
}
